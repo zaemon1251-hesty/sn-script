{
 "cells": [
  {
   "cell_type": "code",
   "execution_count": 1,
   "metadata": {},
   "outputs": [
    {
     "name": "stdout",
     "output_type": "stream",
     "text": [
      "/Users/heste/workspace/soccernet/sn-script\n"
     ]
    },
    {
     "name": "stderr",
     "output_type": "stream",
     "text": [
      "/Users/heste/workspace/soccernet/sn-script/.venv/lib/python3.11/site-packages/IPython/core/magics/osm.py:417: UserWarning: using dhist requires you to install the `pickleshare` library.\n",
      "  self.shell.db['dhist'] = compress_dhist(dhist)[-100:]\n"
     ]
    },
    {
     "data": {
      "text/plain": [
       "'/Users/heste/workspace/soccernet/sn-script'"
      ]
     },
     "execution_count": 1,
     "metadata": {},
     "output_type": "execute_result"
    }
   ],
   "source": [
    "# move to project root\n",
    "%cd ..\n",
    "%pwd"
   ]
  },
  {
   "cell_type": "code",
   "execution_count": 2,
   "metadata": {},
   "outputs": [],
   "source": [
    "import os\n",
    "import pandas as pd\n",
    "\n",
    "label_template = \"commentary_dataset/gpt-3.5-turbo-1106_500game_{half_nunber}_llm_annotation_{split}.csv\"\n",
    "\n",
    "split = \"train\"\n",
    "label_df_half1 = pd.read_csv(\n",
    "    os.path.join(label_template.format(half_nunber=1, split=split))\n",
    ")\n",
    "label_df_half2 = pd.read_csv(\n",
    "    os.path.join(label_template.format(half_nunber=2, split=split))\n",
    ")"
   ]
  },
  {
   "cell_type": "code",
   "execution_count": 8,
   "metadata": {},
   "outputs": [
    {
     "data": {
      "text/html": [
       "<div>\n",
       "<style scoped>\n",
       "    .dataframe tbody tr th:only-of-type {\n",
       "        vertical-align: middle;\n",
       "    }\n",
       "\n",
       "    .dataframe tbody tr th {\n",
       "        vertical-align: top;\n",
       "    }\n",
       "\n",
       "    .dataframe thead th {\n",
       "        text-align: right;\n",
       "    }\n",
       "</style>\n",
       "<table border=\"1\" class=\"dataframe\">\n",
       "  <thead>\n",
       "    <tr style=\"text-align: right;\">\n",
       "      <th></th>\n",
       "      <th>id</th>\n",
       "      <th>game</th>\n",
       "      <th>start</th>\n",
       "      <th>end</th>\n",
       "      <th>text</th>\n",
       "      <th>付加的情報か</th>\n",
       "      <th>大分類</th>\n",
       "      <th>小分類</th>\n",
       "      <th>備考</th>\n",
       "      <th>split</th>\n",
       "      <th>target_frameid</th>\n",
       "      <th>target_label</th>\n",
       "    </tr>\n",
       "  </thead>\n",
       "  <tbody>\n",
       "    <tr>\n",
       "      <th>0</th>\n",
       "      <td>0</td>\n",
       "      <td>england_epl/2014-2015/2015-02-21 - 18-00 Chels...</td>\n",
       "      <td>00:00</td>\n",
       "      <td>00:03</td>\n",
       "      <td>Arrancó ya el duelo, maneja la pelota el Barley.</td>\n",
       "      <td>0.0</td>\n",
       "      <td>NaN</td>\n",
       "      <td>NaN</td>\n",
       "      <td>This comment does not contain any supplementar...</td>\n",
       "      <td>train</td>\n",
       "      <td>0</td>\n",
       "      <td>1.0</td>\n",
       "    </tr>\n",
       "    <tr>\n",
       "      <th>1</th>\n",
       "      <td>1</td>\n",
       "      <td>england_epl/2014-2015/2015-02-21 - 18-00 Chels...</td>\n",
       "      <td>00:00</td>\n",
       "      <td>00:09</td>\n",
       "      <td>Hay que decir que también se midieron en el pr...</td>\n",
       "      <td>1.0</td>\n",
       "      <td>NaN</td>\n",
       "      <td>NaN</td>\n",
       "      <td>This comment contains historical match data.</td>\n",
       "      <td>train</td>\n",
       "      <td>0</td>\n",
       "      <td>2.0</td>\n",
       "    </tr>\n",
       "    <tr>\n",
       "      <th>2</th>\n",
       "      <td>2</td>\n",
       "      <td>england_epl/2014-2015/2015-02-21 - 18-00 Chels...</td>\n",
       "      <td>00:08</td>\n",
       "      <td>00:11</td>\n",
       "      <td>El Barley se adelantó.</td>\n",
       "      <td>0.0</td>\n",
       "      <td>NaN</td>\n",
       "      <td>NaN</td>\n",
       "      <td>This comment refers to a specific event in the...</td>\n",
       "      <td>train</td>\n",
       "      <td>8</td>\n",
       "      <td>1.0</td>\n",
       "    </tr>\n",
       "    <tr>\n",
       "      <th>3</th>\n",
       "      <td>3</td>\n",
       "      <td>england_epl/2014-2015/2015-02-21 - 18-00 Chels...</td>\n",
       "      <td>00:09</td>\n",
       "      <td>00:18</td>\n",
       "      <td>Hay que recordar que se adelantó en ese partid...</td>\n",
       "      <td>1.0</td>\n",
       "      <td>NaN</td>\n",
       "      <td>NaN</td>\n",
       "      <td>This comment contains historical match statist...</td>\n",
       "      <td>train</td>\n",
       "      <td>9</td>\n",
       "      <td>2.0</td>\n",
       "    </tr>\n",
       "    <tr>\n",
       "      <th>4</th>\n",
       "      <td>4</td>\n",
       "      <td>england_epl/2014-2015/2015-02-21 - 18-00 Chels...</td>\n",
       "      <td>00:17</td>\n",
       "      <td>00:19</td>\n",
       "      <td>Exactamente, justo lo que iba a decir.</td>\n",
       "      <td>0.0</td>\n",
       "      <td>NaN</td>\n",
       "      <td>NaN</td>\n",
       "      <td>This comment does not contain any supplementar...</td>\n",
       "      <td>train</td>\n",
       "      <td>17</td>\n",
       "      <td>1.0</td>\n",
       "    </tr>\n",
       "  </tbody>\n",
       "</table>\n",
       "</div>"
      ],
      "text/plain": [
       "   id                                               game  start    end  \\\n",
       "0   0  england_epl/2014-2015/2015-02-21 - 18-00 Chels...  00:00  00:03   \n",
       "1   1  england_epl/2014-2015/2015-02-21 - 18-00 Chels...  00:00  00:09   \n",
       "2   2  england_epl/2014-2015/2015-02-21 - 18-00 Chels...  00:08  00:11   \n",
       "3   3  england_epl/2014-2015/2015-02-21 - 18-00 Chels...  00:09  00:18   \n",
       "4   4  england_epl/2014-2015/2015-02-21 - 18-00 Chels...  00:17  00:19   \n",
       "\n",
       "                                                text  付加的情報か  大分類  小分類  \\\n",
       "0   Arrancó ya el duelo, maneja la pelota el Barley.     0.0  NaN  NaN   \n",
       "1  Hay que decir que también se midieron en el pr...     1.0  NaN  NaN   \n",
       "2                             El Barley se adelantó.     0.0  NaN  NaN   \n",
       "3  Hay que recordar que se adelantó en ese partid...     1.0  NaN  NaN   \n",
       "4             Exactamente, justo lo que iba a decir.     0.0  NaN  NaN   \n",
       "\n",
       "                                                  備考  split  target_frameid  \\\n",
       "0  This comment does not contain any supplementar...  train               0   \n",
       "1       This comment contains historical match data.  train               0   \n",
       "2  This comment refers to a specific event in the...  train               8   \n",
       "3  This comment contains historical match statist...  train               9   \n",
       "4  This comment does not contain any supplementar...  train              17   \n",
       "\n",
       "   target_label  \n",
       "0           1.0  \n",
       "1           2.0  \n",
       "2           1.0  \n",
       "3           2.0  \n",
       "4           1.0  "
      ]
     },
     "execution_count": 8,
     "metadata": {},
     "output_type": "execute_result"
    }
   ],
   "source": [
    "label_df_half1.head()"
   ]
  },
  {
   "cell_type": "code",
   "execution_count": 3,
   "metadata": {},
   "outputs": [],
   "source": [
    "games_half1 = label_df_half1[\"game\"].unique().tolist()\n",
    "games_half2 = label_df_half2[\"game\"].unique().tolist()"
   ]
  },
  {
   "cell_type": "code",
   "execution_count": 5,
   "metadata": {},
   "outputs": [],
   "source": [
    "comment_counts_half1 = { game: len(ids) for game, ids in label_df_half1.groupby('game').groups.items()}"
   ]
  },
  {
   "cell_type": "code",
   "execution_count": 6,
   "metadata": {},
   "outputs": [
    {
     "name": "stdout",
     "output_type": "stream",
     "text": [
      "mean_comment_counts_half1=487.8929889298893\n"
     ]
    }
   ],
   "source": [
    "mean_comment_counts_half1 = sum(comment_counts_half1.values()) / len(comment_counts_half1)\n",
    "print(f\"{mean_comment_counts_half1=}\")"
   ]
  },
  {
   "cell_type": "code",
   "execution_count": 7,
   "metadata": {},
   "outputs": [
    {
     "name": "stdout",
     "output_type": "stream",
     "text": [
      "average_comment_interval_half1=6\n"
     ]
    }
   ],
   "source": [
    "average_comment_interval_half1 = round(45 * 60 / mean_comment_counts_half1)\n",
    "print(f\"{average_comment_interval_half1=}\")"
   ]
  },
  {
   "cell_type": "code",
   "execution_count": 10,
   "metadata": {},
   "outputs": [
    {
     "name": "stdout",
     "output_type": "stream",
     "text": [
      "mean_comment_addional_info_counts_half1=70.79377431906615\n",
      "average_comment_addional_info_interval_half1=38\n"
     ]
    }
   ],
   "source": [
    "comment_addional_info_counts_half1 = {\n",
    "    game: len(ids)\n",
    "    for game, ids in label_df_half1[label_df_half1[\"付加的情報か\"] == 1].groupby('game').groups.items()\n",
    "}\n",
    "mean_comment_addional_info_counts_half1 = sum(comment_addional_info_counts_half1.values()) / len(comment_addional_info_counts_half1)\n",
    "print(f\"{mean_comment_addional_info_counts_half1=}\")\n",
    "average_comment_addional_info_interval_half1 = round(45 * 60 / mean_comment_addional_info_counts_half1)\n",
    "print(f\"{average_comment_addional_info_interval_half1=}\")"
   ]
  },
  {
   "cell_type": "code",
   "execution_count": null,
   "metadata": {},
   "outputs": [],
   "source": []
  },
  {
   "cell_type": "code",
   "execution_count": 6,
   "metadata": {},
   "outputs": [
    {
     "data": {
      "text/plain": [
       "(271, 275, 270)"
      ]
     },
     "execution_count": 6,
     "metadata": {},
     "output_type": "execute_result"
    }
   ],
   "source": [
    "len(games_half1), len(games_half2), len(set(games_half1) & set(games_half2))"
   ]
  },
  {
   "cell_type": "code",
   "execution_count": 7,
   "metadata": {},
   "outputs": [],
   "source": [
    "from SoccerNet.Downloader import getListGames\n",
    "games = getListGames(\"train\", \"caption\")"
   ]
  },
  {
   "cell_type": "code",
   "execution_count": 8,
   "metadata": {},
   "outputs": [
    {
     "data": {
      "text/plain": [
       "281"
      ]
     },
     "execution_count": 8,
     "metadata": {},
     "output_type": "execute_result"
    }
   ],
   "source": [
    "len(games)"
   ]
  },
  {
   "cell_type": "code",
   "execution_count": 10,
   "metadata": {},
   "outputs": [
    {
     "data": {
      "text/plain": [
       "132219"
      ]
     },
     "execution_count": 10,
     "metadata": {},
     "output_type": "execute_result"
    }
   ],
   "source": [
    "len(label_df_half1)"
   ]
  },
  {
   "cell_type": "code",
   "execution_count": 11,
   "metadata": {},
   "outputs": [],
   "source": [
    "label_df_half1 = label_df_half1.dropna(subset=[\"target_label\"])"
   ]
  },
  {
   "cell_type": "code",
   "execution_count": 12,
   "metadata": {},
   "outputs": [
    {
     "data": {
      "text/plain": [
       "131724"
      ]
     },
     "execution_count": 12,
     "metadata": {},
     "output_type": "execute_result"
    }
   ],
   "source": [
    "len(label_df_half1)"
   ]
  },
  {
   "cell_type": "code",
   "execution_count": 1,
   "metadata": {},
   "outputs": [
    {
     "ename": "NameError",
     "evalue": "name 'label_df_half1' is not defined",
     "output_type": "error",
     "traceback": [
      "\u001b[0;31m---------------------------------------------------------------------------\u001b[0m",
      "\u001b[0;31mNameError\u001b[0m                                 Traceback (most recent call last)",
      "Cell \u001b[0;32mIn[1], line 1\u001b[0m\n\u001b[0;32m----> 1\u001b[0m comments_per_game \u001b[38;5;241m=\u001b[39m \u001b[43mlabel_df_half1\u001b[49m\u001b[38;5;241m.\u001b[39mgroupby(\u001b[38;5;124m\"\u001b[39m\u001b[38;5;124mgame\u001b[39m\u001b[38;5;124m\"\u001b[39m)\u001b[38;5;241m.\u001b[39msize()\n\u001b[1;32m      2\u001b[0m average_gap_between_comments \u001b[38;5;241m=\u001b[39m (comments_per_game[\u001b[38;5;124m\"\u001b[39m\u001b[38;5;124mstart\u001b[39m\u001b[38;5;124m\"\u001b[39m] \u001b[38;5;241m-\u001b[39m comments_per_game[\u001b[38;5;124m\"\u001b[39m\u001b[38;5;124mstart\u001b[39m\u001b[38;5;124m\"\u001b[39m]\u001b[38;5;241m.\u001b[39mshift(\u001b[38;5;241m1\u001b[39m))\u001b[38;5;241m.\u001b[39mmean(skipna\u001b[38;5;241m=\u001b[39m\u001b[38;5;28;01mTrue\u001b[39;00m)\n",
      "\u001b[0;31mNameError\u001b[0m: name 'label_df_half1' is not defined"
     ]
    }
   ],
   "source": [
    "comments_per_game = label_df_half1.groupby(\"game\").size()\n",
    "average_gap_between_comments = (comments_per_game[\"start\"] - comments_per_game[\"start\"].shift(1)).mean(skipna=True)"
   ]
  },
  {
   "cell_type": "code",
   "execution_count": null,
   "metadata": {},
   "outputs": [],
   "source": []
  }
 ],
 "metadata": {
  "kernelspec": {
   "display_name": ".venv",
   "language": "python",
   "name": "python3"
  },
  "language_info": {
   "codemirror_mode": {
    "name": "ipython",
    "version": 3
   },
   "file_extension": ".py",
   "mimetype": "text/x-python",
   "name": "python",
   "nbconvert_exporter": "python",
   "pygments_lexer": "ipython3",
   "version": "3.11.3"
  }
 },
 "nbformat": 4,
 "nbformat_minor": 2
}
