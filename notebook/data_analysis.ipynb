{
 "cells": [
  {
   "cell_type": "code",
   "execution_count": null,
   "metadata": {},
   "outputs": [],
   "source": [
    "from datetime import datetime\n",
    "from transformers import AutoTokenizer\n",
    "import transformers\n",
    "import torch\n",
    "from tqdm import tqdm\n",
    "import pandas as pd\n",
    "\n",
    "\n",
    "try:\n",
    "    from sn_script.config import (\n",
    "        Config,\n",
    "        binary_category_name,\n",
    "        category_name,\n",
    "        subcategory_name,\n",
    "        random_seed,\n",
    "        half_number,\n",
    "        model_type,\n",
    "    )\n",
    "except ModuleNotFoundError:\n",
    "    import sys\n",
    "\n",
    "    sys.path.append(\".\")\n",
    "    from src.sn_script.config import (\n",
    "        Config,\n",
    "        binary_category_name,\n",
    "        category_name,\n",
    "        subcategory_name,\n",
    "        random_seed,\n",
    "        half_number,\n",
    "        model_type,\n",
    "    )\n",
    "\n",
    "# pandasのprogress_applyを使うために必要\n",
    "tqdm.pandas()\n",
    "\n",
    "\n",
    "# プロンプト作成用の引数\n",
    "LLM_ANOTATION_CSV_PATH = (\n",
    "    Config.target_base_dir / f\"{model_type}_500game_{half_number}_llm_annotation.csv\"\n",
    ")"
   ]
  }
 ],
 "metadata": {
  "language_info": {
   "name": "python"
  }
 },
 "nbformat": 4,
 "nbformat_minor": 2
}
