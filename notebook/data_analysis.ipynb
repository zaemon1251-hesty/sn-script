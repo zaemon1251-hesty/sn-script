{
 "cells": [
  {
   "cell_type": "code",
   "execution_count": 4,
   "metadata": {},
   "outputs": [],
   "source": [
    "from datetime import datetime\n",
    "from transformers import AutoTokenizer\n",
    "import transformers\n",
    "import torch\n",
    "from tqdm import tqdm\n",
    "import pandas as pd\n",
    "import numpy as np\n",
    "\n",
    "try:\n",
    "    from sn_script.config import (\n",
    "        Config,\n",
    "        binary_category_name,\n",
    "        category_name,\n",
    "        subcategory_name,\n",
    "        random_seed,\n",
    "        half_number,\n",
    "        model_type,\n",
    "    )\n",
    "    from sn_script.csv_utils import gametime_to_seconds, seconds_to_gametime\n",
    "except ModuleNotFoundError:\n",
    "    import sys\n",
    "    import os\n",
    "\n",
    "    sys.path.append(\"..\")\n",
    "    from src.sn_script.config import (\n",
    "        Config,\n",
    "        binary_category_name,\n",
    "        category_name,\n",
    "        subcategory_name,\n",
    "        random_seed,\n",
    "        half_number,\n",
    "        model_type,\n",
    "    )\n",
    "    from src.sn_script.csv_utils import gametime_to_seconds, seconds_to_gametime\n",
    "\n",
    "# pandasのprogress_applyを使うために必要\n",
    "tqdm.pandas()\n",
    "\n",
    "\n",
    "# CSVの読み込み\n",
    "LLM_ANOTATION_CSV_1_PATH = (\n",
    "    Config.target_base_dir / f\"{model_type}_500game_{1}_llm_annotation.csv\"\n",
    ")\n",
    "LLM_ANOTATION_CSV_2_PATH = (\n",
    "    Config.target_base_dir / f\"{model_type}_500game_{2}_llm_annotation.csv\"\n",
    ")\n",
    "SOCCERNET_LABEL_CSV_PATH = Config.target_base_dir / \"soccernet_labels.csv\""
   ]
  },
  {
   "cell_type": "code",
   "execution_count": 5,
   "metadata": {},
   "outputs": [],
   "source": [
    "import matplotlib\n",
    "from matplotlib import pylab as plt\n",
    "\n",
    "# matplotlibのデフォルトフォントをTakaoGothicに設定\n",
    "font = {\"family\": \"IPAexGothic\"}\n",
    "matplotlib.rc(\"font\", **font)\n",
    "plt.rcParams.update({\"font.size\": 22})"
   ]
  },
  {
   "cell_type": "code",
   "execution_count": 6,
   "metadata": {},
   "outputs": [],
   "source": [
    "soccernet_df = pd.read_csv(SOCCERNET_LABEL_CSV_PATH)"
   ]
  },
  {
   "cell_type": "code",
   "execution_count": 7,
   "metadata": {},
   "outputs": [],
   "source": [
    "all_game_half_1_df = pd.read_csv(LLM_ANOTATION_CSV_1_PATH, index_col=0)"
   ]
  },
  {
   "cell_type": "code",
   "execution_count": 8,
   "metadata": {},
   "outputs": [],
   "source": [
    "all_game_half_1_df[\"text_length\"] = all_game_half_1_df[\"text\"].apply(\n",
    "    lambda x: len(x.split())\n",
    ")"
   ]
  },
  {
   "cell_type": "code",
   "execution_count": 9,
   "metadata": {},
   "outputs": [
    {
     "data": {
      "text/plain": [
       "(22, 9)"
      ]
     },
     "execution_count": 9,
     "metadata": {},
     "output_type": "execute_result"
    }
   ],
   "source": [
    "# all_game_half_1_df[\"text_length\"].describe()\n",
    "all_game_half_1_df[all_game_half_1_df[\"text_length\"] > 5000].shape"
   ]
  },
  {
   "cell_type": "code",
   "execution_count": 10,
   "metadata": {},
   "outputs": [
    {
     "data": {
      "text/plain": [
       "{'game': {708: 'england_epl/2014-2015/2015-02-21 - 18-00 Chelsea 1 - 1 Burnley',\n",
       "  1030: 'england_epl/2014-2015/2015-02-21 - 18-00 Crystal Palace 1 - 2 Arsenal',\n",
       "  9233: 'england_epl/2015-2016/2015-09-26 - 17-00 Liverpool 3 - 2 Aston Villa',\n",
       "  9456: 'england_epl/2015-2016/2015-09-26 - 17-00 Liverpool 3 - 2 Aston Villa',\n",
       "  9483: 'england_epl/2015-2016/2015-09-26 - 17-00 Liverpool 3 - 2 Aston Villa'},\n",
       " 'start': {708: '43:17',\n",
       "  1030: '18:00',\n",
       "  9233: '17:13',\n",
       "  9456: '40:57',\n",
       "  9483: '43:43'},\n",
       " 'end': {708: '43:21',\n",
       "  1030: '18:06',\n",
       "  9233: '17:17',\n",
       "  9456: '41:03',\n",
       "  9483: '43:50'},\n",
       " 'text': {708: 'Está atentísimo Jones para robar ese balón.',\n",
       "  1030: 'Здорово.',\n",
       "  9233: 'Развернуться надо и скинуть мяч кому-нибудь.',\n",
       "  9456: 'Вестфуд, еще одна подача.',\n",
       "  9483: 'Очень далеко, надбой.'},\n",
       " '付加的情報か': {708: 2.0, 1030: 2.0, 9233: 2.0, 9456: 2.0, 9483: 2.0},\n",
       " '大分類': {708: nan, 1030: nan, 9233: nan, 9456: nan, 9483: nan},\n",
       " '小分類': {708: nan, 1030: nan, 9233: nan, 9456: nan, 9483: nan},\n",
       " '備考': {708: 'The comment is in a language other than English, making it difficult to classify the content.',\n",
       "  1030: 'The provided text is not in English, making it difficult to analyze the content.',\n",
       "  9233: 'The provided comment is not in English, making it difficult to classify.',\n",
       "  9456: \"The comment seems to be in a different language (Russian) and it's unclear whether it contains supplementary information.\",\n",
       "  9483: 'The provided comment is not in English, making it difficult to classify the content.'},\n",
       " 'text_length': {708: 7, 1030: 1, 9233: 6, 9456: 4, 9483: 3}}"
      ]
     },
     "execution_count": 10,
     "metadata": {},
     "output_type": "execute_result"
    }
   ],
   "source": [
    "all_game_half_1_df[all_game_half_1_df[binary_category_name] == 2].head().to_dict()"
   ]
  },
  {
   "cell_type": "code",
   "execution_count": 11,
   "metadata": {},
   "outputs": [
    {
     "data": {
      "text/plain": [
       "{162: 757,\n",
       " 748: 2692,\n",
       " 793: 159,\n",
       " 845: 327,\n",
       " 847: 327,\n",
       " 889: 450,\n",
       " 993: 975,\n",
       " 1034: 1096,\n",
       " 1047: 1144,\n",
       " 1065: 1211}"
      ]
     },
     "execution_count": 11,
     "metadata": {},
     "output_type": "execute_result"
    }
   ],
   "source": [
    "all_game_half_1_df[all_game_half_1_df[binary_category_name] == -1][\"start\"].apply(\n",
    "    gametime_to_seconds\n",
    ").head(10).to_dict()"
   ]
  },
  {
   "cell_type": "code",
   "execution_count": 12,
   "metadata": {},
   "outputs": [
    {
     "data": {
      "text/html": [
       "<div>\n",
       "<style scoped>\n",
       "    .dataframe tbody tr th:only-of-type {\n",
       "        vertical-align: middle;\n",
       "    }\n",
       "\n",
       "    .dataframe tbody tr th {\n",
       "        vertical-align: top;\n",
       "    }\n",
       "\n",
       "    .dataframe thead th {\n",
       "        text-align: right;\n",
       "    }\n",
       "</style>\n",
       "<table border=\"1\" class=\"dataframe\">\n",
       "  <thead>\n",
       "    <tr style=\"text-align: right;\">\n",
       "      <th>付加的情報か</th>\n",
       "      <th>-1.0</th>\n",
       "      <th>0.0</th>\n",
       "      <th>1.0</th>\n",
       "      <th>2.0</th>\n",
       "    </tr>\n",
       "  </thead>\n",
       "  <tbody>\n",
       "    <tr>\n",
       "      <th>00:00~</th>\n",
       "      <td>47</td>\n",
       "      <td>17474</td>\n",
       "      <td>4668</td>\n",
       "      <td>9</td>\n",
       "    </tr>\n",
       "    <tr>\n",
       "      <th>05:00~</th>\n",
       "      <td>62</td>\n",
       "      <td>19572</td>\n",
       "      <td>3719</td>\n",
       "      <td>16</td>\n",
       "    </tr>\n",
       "    <tr>\n",
       "      <th>10:00~</th>\n",
       "      <td>63</td>\n",
       "      <td>20432</td>\n",
       "      <td>3500</td>\n",
       "      <td>21</td>\n",
       "    </tr>\n",
       "    <tr>\n",
       "      <th>15:00~</th>\n",
       "      <td>77</td>\n",
       "      <td>21415</td>\n",
       "      <td>3175</td>\n",
       "      <td>24</td>\n",
       "    </tr>\n",
       "    <tr>\n",
       "      <th>20:00~</th>\n",
       "      <td>76</td>\n",
       "      <td>20356</td>\n",
       "      <td>3043</td>\n",
       "      <td>22</td>\n",
       "    </tr>\n",
       "    <tr>\n",
       "      <th>25:00~</th>\n",
       "      <td>72</td>\n",
       "      <td>20370</td>\n",
       "      <td>2983</td>\n",
       "      <td>21</td>\n",
       "    </tr>\n",
       "    <tr>\n",
       "      <th>30:00~</th>\n",
       "      <td>92</td>\n",
       "      <td>20437</td>\n",
       "      <td>2904</td>\n",
       "      <td>25</td>\n",
       "    </tr>\n",
       "    <tr>\n",
       "      <th>35:00~</th>\n",
       "      <td>89</td>\n",
       "      <td>21065</td>\n",
       "      <td>2920</td>\n",
       "      <td>23</td>\n",
       "    </tr>\n",
       "    <tr>\n",
       "      <th>40:00~</th>\n",
       "      <td>60</td>\n",
       "      <td>20318</td>\n",
       "      <td>2811</td>\n",
       "      <td>25</td>\n",
       "    </tr>\n",
       "    <tr>\n",
       "      <th>45:00~</th>\n",
       "      <td>5</td>\n",
       "      <td>1137</td>\n",
       "      <td>208</td>\n",
       "      <td>1</td>\n",
       "    </tr>\n",
       "  </tbody>\n",
       "</table>\n",
       "</div>"
      ],
      "text/plain": [
       "付加的情報か  -1.0    0.0   1.0   2.0\n",
       "00:00~    47  17474  4668     9\n",
       "05:00~    62  19572  3719    16\n",
       "10:00~    63  20432  3500    21\n",
       "15:00~    77  21415  3175    24\n",
       "20:00~    76  20356  3043    22\n",
       "25:00~    72  20370  2983    21\n",
       "30:00~    92  20437  2904    25\n",
       "35:00~    89  21065  2920    23\n",
       "40:00~    60  20318  2811    25\n",
       "45:00~     5   1137   208     1"
      ]
     },
     "execution_count": 12,
     "metadata": {},
     "output_type": "execute_result"
    }
   ],
   "source": [
    "# start を5分ごとにbinningし，[all付加的情報か]の割合をプロットする\n",
    "all_game_half_1_df[\"start_bin\"] = (\n",
    "    all_game_half_1_df[\"start\"].apply(gametime_to_seconds) // 300\n",
    ")\n",
    "\n",
    "\n",
    "piv_1_df = all_game_half_1_df.pivot_table(\n",
    "    index=\"start_bin\", columns=binary_category_name, aggfunc=\"count\", values=\"text\"\n",
    ")\n",
    "piv_1_df.index = [seconds_to_gametime(i * 300) + \"~\" for i in piv_1_df.index]\n",
    "piv_1_df"
   ]
  },
  {
   "cell_type": "code",
   "execution_count": 13,
   "metadata": {},
   "outputs": [
    {
     "data": {
      "text/plain": [
       "00:00~    0.210289\n",
       "05:00~    0.159142\n",
       "10:00~    0.145736\n",
       "15:00~    0.128589\n",
       "20:00~    0.129506\n",
       "25:00~    0.127229\n",
       "30:00~    0.123796\n",
       "35:00~    0.121177\n",
       "40:00~    0.121091\n",
       "45:00~    0.153960\n",
       "dtype: float64"
      ]
     },
     "execution_count": 13,
     "metadata": {},
     "output_type": "execute_result"
    }
   ],
   "source": [
    "piv_1_df[1.0] / piv_1_df.sum(axis=1)"
   ]
  },
  {
   "cell_type": "code",
   "execution_count": 14,
   "metadata": {},
   "outputs": [
    {
     "data": {
      "text/plain": [
       "<Axes: title={'center': '前半'}, xlabel='試合時間', ylabel='割合'>"
      ]
     },
     "execution_count": 14,
     "metadata": {},
     "output_type": "execute_result"
    },
    {
     "data": {
      "image/png": "[encoded data removed]",
      "text/plain": [
       "<Figure size 640x480 with 1 Axes>"
      ]
     },
     "metadata": {},
     "output_type": "display_data"
    }
   ],
   "source": [
    "# X軸のラベルをゲーム時間にする\n",
    "(piv_1_df[1.0] / piv_1_df.sum(axis=1)).plot(\n",
    "    # xticks=[0, 5, 10, 15, 20, 25, 30, 35, 40, 45],\n",
    "    xlabel=\"試合時間\",\n",
    "    ylabel=\"割合\",\n",
    "    title=\"前半\",\n",
    "    ylim=(0.1, 0.22)\n",
    ")"
   ]
  },
  {
   "cell_type": "code",
   "execution_count": 15,
   "metadata": {},
   "outputs": [],
   "source": [
    "all_game_half_2_df = pd.read_csv(LLM_ANOTATION_CSV_2_PATH, index_col=0)"
   ]
  },
  {
   "cell_type": "code",
   "execution_count": 16,
   "metadata": {},
   "outputs": [
    {
     "data": {
      "text/html": [
       "<div>\n",
       "<style scoped>\n",
       "    .dataframe tbody tr th:only-of-type {\n",
       "        vertical-align: middle;\n",
       "    }\n",
       "\n",
       "    .dataframe tbody tr th {\n",
       "        vertical-align: top;\n",
       "    }\n",
       "\n",
       "    .dataframe thead th {\n",
       "        text-align: right;\n",
       "    }\n",
       "</style>\n",
       "<table border=\"1\" class=\"dataframe\">\n",
       "  <thead>\n",
       "    <tr style=\"text-align: right;\">\n",
       "      <th>付加的情報か</th>\n",
       "      <th>-1.0</th>\n",
       "      <th>0.0</th>\n",
       "      <th>1.0</th>\n",
       "      <th>2.0</th>\n",
       "    </tr>\n",
       "  </thead>\n",
       "  <tbody>\n",
       "    <tr>\n",
       "      <th>45:00~</th>\n",
       "      <td>51.0</td>\n",
       "      <td>18403.0</td>\n",
       "      <td>3471.0</td>\n",
       "      <td>18.0</td>\n",
       "    </tr>\n",
       "    <tr>\n",
       "      <th>50:00~</th>\n",
       "      <td>74.0</td>\n",
       "      <td>20560.0</td>\n",
       "      <td>2867.0</td>\n",
       "      <td>19.0</td>\n",
       "    </tr>\n",
       "    <tr>\n",
       "      <th>55:00~</th>\n",
       "      <td>76.0</td>\n",
       "      <td>21288.0</td>\n",
       "      <td>2873.0</td>\n",
       "      <td>12.0</td>\n",
       "    </tr>\n",
       "    <tr>\n",
       "      <th>60:00~</th>\n",
       "      <td>94.0</td>\n",
       "      <td>21159.0</td>\n",
       "      <td>2802.0</td>\n",
       "      <td>18.0</td>\n",
       "    </tr>\n",
       "    <tr>\n",
       "      <th>65:00~</th>\n",
       "      <td>74.0</td>\n",
       "      <td>20987.0</td>\n",
       "      <td>2801.0</td>\n",
       "      <td>20.0</td>\n",
       "    </tr>\n",
       "    <tr>\n",
       "      <th>70:00~</th>\n",
       "      <td>72.0</td>\n",
       "      <td>20555.0</td>\n",
       "      <td>2933.0</td>\n",
       "      <td>22.0</td>\n",
       "    </tr>\n",
       "    <tr>\n",
       "      <th>75:00~</th>\n",
       "      <td>79.0</td>\n",
       "      <td>20445.0</td>\n",
       "      <td>2828.0</td>\n",
       "      <td>23.0</td>\n",
       "    </tr>\n",
       "    <tr>\n",
       "      <th>80:00~</th>\n",
       "      <td>73.0</td>\n",
       "      <td>20318.0</td>\n",
       "      <td>2740.0</td>\n",
       "      <td>30.0</td>\n",
       "    </tr>\n",
       "    <tr>\n",
       "      <th>85:00~</th>\n",
       "      <td>71.0</td>\n",
       "      <td>18917.0</td>\n",
       "      <td>2682.0</td>\n",
       "      <td>16.0</td>\n",
       "    </tr>\n",
       "    <tr>\n",
       "      <th>90:00~</th>\n",
       "      <td>17.0</td>\n",
       "      <td>4979.0</td>\n",
       "      <td>767.0</td>\n",
       "      <td>7.0</td>\n",
       "    </tr>\n",
       "    <tr>\n",
       "      <th>95:00~</th>\n",
       "      <td>1.0</td>\n",
       "      <td>209.0</td>\n",
       "      <td>23.0</td>\n",
       "      <td>NaN</td>\n",
       "    </tr>\n",
       "  </tbody>\n",
       "</table>\n",
       "</div>"
      ],
      "text/plain": [
       "付加的情報か  -1.0      0.0     1.0   2.0\n",
       "45:00~  51.0  18403.0  3471.0  18.0\n",
       "50:00~  74.0  20560.0  2867.0  19.0\n",
       "55:00~  76.0  21288.0  2873.0  12.0\n",
       "60:00~  94.0  21159.0  2802.0  18.0\n",
       "65:00~  74.0  20987.0  2801.0  20.0\n",
       "70:00~  72.0  20555.0  2933.0  22.0\n",
       "75:00~  79.0  20445.0  2828.0  23.0\n",
       "80:00~  73.0  20318.0  2740.0  30.0\n",
       "85:00~  71.0  18917.0  2682.0  16.0\n",
       "90:00~  17.0   4979.0   767.0   7.0\n",
       "95:00~   1.0    209.0    23.0   NaN"
      ]
     },
     "execution_count": 16,
     "metadata": {},
     "output_type": "execute_result"
    }
   ],
   "source": [
    "# start を5分ごとにbinningし，[all付加的情報か]の割合をプロットする\n",
    "all_game_half_2_df[\"start_bin\"] = (\n",
    "    all_game_half_2_df[\"start\"].apply(gametime_to_seconds) // 300\n",
    ")\n",
    "\n",
    "\n",
    "piv_2_df = all_game_half_2_df.pivot_table(\n",
    "    index=\"start_bin\", columns=binary_category_name, aggfunc=\"count\", values=\"text\"\n",
    ")\n",
    "half_offset = 2700\n",
    "piv_2_df.index = [seconds_to_gametime(i * 300 + half_offset) + \"~\" for i in piv_2_df.index]\n",
    "piv_2_df"
   ]
  },
  {
   "cell_type": "code",
   "execution_count": 17,
   "metadata": {},
   "outputs": [
    {
     "data": {
      "text/plain": [
       "<Axes: title={'center': '後半'}, xlabel='試合時間', ylabel='割合'>"
      ]
     },
     "execution_count": 17,
     "metadata": {},
     "output_type": "execute_result"
    },
    {
     "data": {
      "image/png": "[encoded data removed]",
      "text/plain": [
       "<Figure size 640x480 with 1 Axes>"
      ]
     },
     "metadata": {},
     "output_type": "display_data"
    }
   ],
   "source": [
    "# X軸のラベルをゲーム時間にする\n",
    "(piv_2_df[1.0] / piv_2_df.sum(axis=1)).plot(\n",
    "    # xticks=[0, 5, 10, 15, 20, 25, 30, 35, 40, 45],\n",
    "    xlabel=u\"試合時間\",\n",
    "    ylabel=u\"割合\",\n",
    "    title=u\"後半\",\n",
    "    ylim=(0.1, 0.22)\n",
    ")"
   ]
  },
  {
   "cell_type": "code",
   "execution_count": 18,
   "metadata": {},
   "outputs": [],
   "source": [
    "all_game_half_1_df[\"half\"] = 1\n",
    "all_game_half_2_df[\"half\"] = 2\n",
    "all_game_df = pd.concat([all_game_half_1_df, all_game_half_2_df]).reset_index(drop=True)\n",
    "\n",
    "LLM_ANOTATION_CSV_ALL_PATH = (\n",
    "    Config.target_base_dir / f\"{model_type}_500game_all_llm_annotation.csv\"\n",
    ")\n",
    "all_game_df.to_csv(LLM_ANOTATION_CSV_ALL_PATH)\n",
    "\n",
    "\n",
    "# merge game half 1 and 2\n",
    "all_game_df[\"start\"] = all_game_df[\"start\"].apply(gametime_to_seconds)\n",
    "all_game_df[\"end\"] = all_game_df[\"end\"].apply(gametime_to_seconds)"
   ]
  },
  {
   "cell_type": "code",
   "execution_count": 19,
   "metadata": {},
   "outputs": [],
   "source": [
    "# 異常なラベルを削除\n",
    "# all_game_df = all_game_df[(all_game_df[binary_category_name] == 1) | (all_game_df[binary_category_name] == 0)]"
   ]
  },
  {
   "cell_type": "code",
   "execution_count": 20,
   "metadata": {},
   "outputs": [
    {
     "data": {
      "text/plain": [
       "付加的情報か\n",
       " 0.0    370396\n",
       " 1.0     56718\n",
       "-1.0      1325\n",
       " 2.0       372\n",
       " NaN        21\n",
       "Name: count, dtype: int64"
      ]
     },
     "execution_count": 20,
     "metadata": {},
     "output_type": "execute_result"
    }
   ],
   "source": [
    "all_game_df[binary_category_name].value_counts(dropna=False)"
   ]
  },
  {
   "cell_type": "code",
   "execution_count": 21,
   "metadata": {},
   "outputs": [
    {
     "data": {
      "text/html": [
       "<div>\n",
       "<style scoped>\n",
       "    .dataframe tbody tr th:only-of-type {\n",
       "        vertical-align: middle;\n",
       "    }\n",
       "\n",
       "    .dataframe tbody tr th {\n",
       "        vertical-align: top;\n",
       "    }\n",
       "\n",
       "    .dataframe thead th {\n",
       "        text-align: right;\n",
       "    }\n",
       "</style>\n",
       "<table border=\"1\" class=\"dataframe\">\n",
       "  <thead>\n",
       "    <tr style=\"text-align: right;\">\n",
       "      <th></th>\n",
       "      <th>game</th>\n",
       "      <th>start</th>\n",
       "      <th>end</th>\n",
       "      <th>text</th>\n",
       "      <th>付加的情報か</th>\n",
       "      <th>大分類</th>\n",
       "      <th>小分類</th>\n",
       "      <th>備考</th>\n",
       "      <th>text_length</th>\n",
       "      <th>start_bin</th>\n",
       "      <th>half</th>\n",
       "    </tr>\n",
       "  </thead>\n",
       "  <tbody>\n",
       "    <tr>\n",
       "      <th>0</th>\n",
       "      <td>england_epl/2014-2015/2015-02-21 - 18-00 Chels...</td>\n",
       "      <td>0</td>\n",
       "      <td>3</td>\n",
       "      <td>Arrancó ya el duelo, maneja la pelota el Barley.</td>\n",
       "      <td>0.0</td>\n",
       "      <td>NaN</td>\n",
       "      <td>NaN</td>\n",
       "      <td>This comment does not contain any supplementar...</td>\n",
       "      <td>9.0</td>\n",
       "      <td>0</td>\n",
       "      <td>1</td>\n",
       "    </tr>\n",
       "    <tr>\n",
       "      <th>1</th>\n",
       "      <td>england_epl/2014-2015/2015-02-21 - 18-00 Chels...</td>\n",
       "      <td>0</td>\n",
       "      <td>9</td>\n",
       "      <td>Hay que decir que también se midieron en el pr...</td>\n",
       "      <td>1.0</td>\n",
       "      <td>NaN</td>\n",
       "      <td>NaN</td>\n",
       "      <td>This comment contains historical match data.</td>\n",
       "      <td>21.0</td>\n",
       "      <td>0</td>\n",
       "      <td>1</td>\n",
       "    </tr>\n",
       "    <tr>\n",
       "      <th>2</th>\n",
       "      <td>england_epl/2014-2015/2015-02-21 - 18-00 Chels...</td>\n",
       "      <td>8</td>\n",
       "      <td>11</td>\n",
       "      <td>El Barley se adelantó.</td>\n",
       "      <td>0.0</td>\n",
       "      <td>NaN</td>\n",
       "      <td>NaN</td>\n",
       "      <td>This comment refers to a specific event in the...</td>\n",
       "      <td>4.0</td>\n",
       "      <td>0</td>\n",
       "      <td>1</td>\n",
       "    </tr>\n",
       "    <tr>\n",
       "      <th>3</th>\n",
       "      <td>england_epl/2014-2015/2015-02-21 - 18-00 Chels...</td>\n",
       "      <td>9</td>\n",
       "      <td>18</td>\n",
       "      <td>Hay que recordar que se adelantó en ese partid...</td>\n",
       "      <td>1.0</td>\n",
       "      <td>NaN</td>\n",
       "      <td>NaN</td>\n",
       "      <td>This comment contains historical match statist...</td>\n",
       "      <td>17.0</td>\n",
       "      <td>0</td>\n",
       "      <td>1</td>\n",
       "    </tr>\n",
       "    <tr>\n",
       "      <th>4</th>\n",
       "      <td>england_epl/2014-2015/2015-02-21 - 18-00 Chels...</td>\n",
       "      <td>17</td>\n",
       "      <td>19</td>\n",
       "      <td>Exactamente, justo lo que iba a decir.</td>\n",
       "      <td>0.0</td>\n",
       "      <td>NaN</td>\n",
       "      <td>NaN</td>\n",
       "      <td>This comment does not contain any supplementar...</td>\n",
       "      <td>7.0</td>\n",
       "      <td>0</td>\n",
       "      <td>1</td>\n",
       "    </tr>\n",
       "    <tr>\n",
       "      <th>5</th>\n",
       "      <td>england_epl/2014-2015/2015-02-21 - 18-00 Chels...</td>\n",
       "      <td>18</td>\n",
       "      <td>20</td>\n",
       "      <td>Recuerdo muy bien ese partido.</td>\n",
       "      <td>0.0</td>\n",
       "      <td>NaN</td>\n",
       "      <td>NaN</td>\n",
       "      <td>This comment refers to a specific match and th...</td>\n",
       "      <td>5.0</td>\n",
       "      <td>0</td>\n",
       "      <td>1</td>\n",
       "    </tr>\n",
       "    <tr>\n",
       "      <th>6</th>\n",
       "      <td>england_epl/2014-2015/2015-02-21 - 18-00 Chels...</td>\n",
       "      <td>19</td>\n",
       "      <td>24</td>\n",
       "      <td>Empezó bien el Barley, marcó un gol, pero el C...</td>\n",
       "      <td>0.0</td>\n",
       "      <td>NaN</td>\n",
       "      <td>NaN</td>\n",
       "      <td>This comment contains subjective opinion from ...</td>\n",
       "      <td>13.0</td>\n",
       "      <td>0</td>\n",
       "      <td>1</td>\n",
       "    </tr>\n",
       "    <tr>\n",
       "      <th>7</th>\n",
       "      <td>england_epl/2014-2015/2015-02-21 - 18-00 Chels...</td>\n",
       "      <td>20</td>\n",
       "      <td>31</td>\n",
       "      <td>Por eso hoy tampoco debería tener problemas, p...</td>\n",
       "      <td>0.0</td>\n",
       "      <td>NaN</td>\n",
       "      <td>NaN</td>\n",
       "      <td>This comment is a subjective opinion from the ...</td>\n",
       "      <td>20.0</td>\n",
       "      <td>0</td>\n",
       "      <td>1</td>\n",
       "    </tr>\n",
       "    <tr>\n",
       "      <th>8</th>\n",
       "      <td>england_epl/2014-2015/2015-02-21 - 18-00 Chels...</td>\n",
       "      <td>30</td>\n",
       "      <td>36</td>\n",
       "      <td>Arrancaba con la pelota cuadrado, dejaba para ...</td>\n",
       "      <td>0.0</td>\n",
       "      <td>NaN</td>\n",
       "      <td>NaN</td>\n",
       "      <td>This comment does not contain any supplementar...</td>\n",
       "      <td>8.0</td>\n",
       "      <td>0</td>\n",
       "      <td>1</td>\n",
       "    </tr>\n",
       "    <tr>\n",
       "      <th>9</th>\n",
       "      <td>england_epl/2014-2015/2015-02-21 - 18-00 Chels...</td>\n",
       "      <td>33</td>\n",
       "      <td>37</td>\n",
       "      <td>Ahí está de nuevo cuadrado.</td>\n",
       "      <td>0.0</td>\n",
       "      <td>NaN</td>\n",
       "      <td>NaN</td>\n",
       "      <td>This comment refers to a player's action in th...</td>\n",
       "      <td>5.0</td>\n",
       "      <td>0</td>\n",
       "      <td>1</td>\n",
       "    </tr>\n",
       "    <tr>\n",
       "      <th>10</th>\n",
       "      <td>england_epl/2014-2015/2015-02-21 - 18-00 Chels...</td>\n",
       "      <td>36</td>\n",
       "      <td>41</td>\n",
       "      <td>Chelsea que queda a la derecha de la imagen en...</td>\n",
       "      <td>0.0</td>\n",
       "      <td>NaN</td>\n",
       "      <td>NaN</td>\n",
       "      <td>This comment refers to the position of the tea...</td>\n",
       "      <td>13.0</td>\n",
       "      <td>0</td>\n",
       "      <td>1</td>\n",
       "    </tr>\n",
       "    <tr>\n",
       "      <th>11</th>\n",
       "      <td>england_epl/2014-2015/2015-02-21 - 18-00 Chels...</td>\n",
       "      <td>37</td>\n",
       "      <td>44</td>\n",
       "      <td>A la izquierda el Barley.</td>\n",
       "      <td>0.0</td>\n",
       "      <td>NaN</td>\n",
       "      <td>NaN</td>\n",
       "      <td>This comment does not contain any supplementar...</td>\n",
       "      <td>5.0</td>\n",
       "      <td>0</td>\n",
       "      <td>1</td>\n",
       "    </tr>\n",
       "    <tr>\n",
       "      <th>12</th>\n",
       "      <td>england_epl/2014-2015/2015-02-21 - 18-00 Chels...</td>\n",
       "      <td>41</td>\n",
       "      <td>46</td>\n",
       "      <td>Cuadrado que vuelve a recibir oportunidad como...</td>\n",
       "      <td>0.0</td>\n",
       "      <td>NaN</td>\n",
       "      <td>NaN</td>\n",
       "      <td>This comment refers to a player's opportunity ...</td>\n",
       "      <td>8.0</td>\n",
       "      <td>0</td>\n",
       "      <td>1</td>\n",
       "    </tr>\n",
       "    <tr>\n",
       "      <th>13</th>\n",
       "      <td>england_epl/2014-2015/2015-02-21 - 18-00 Chels...</td>\n",
       "      <td>44</td>\n",
       "      <td>49</td>\n",
       "      <td>Ya lo fue contra el Everton, hoy vuelve a serlo.</td>\n",
       "      <td>0.0</td>\n",
       "      <td>NaN</td>\n",
       "      <td>NaN</td>\n",
       "      <td>This comment refers to a player's previous per...</td>\n",
       "      <td>10.0</td>\n",
       "      <td>0</td>\n",
       "      <td>1</td>\n",
       "    </tr>\n",
       "    <tr>\n",
       "      <th>14</th>\n",
       "      <td>england_epl/2014-2015/2015-02-21 - 18-00 Chels...</td>\n",
       "      <td>46</td>\n",
       "      <td>53</td>\n",
       "      <td>Jugó el otro día un rato contra el PSG.</td>\n",
       "      <td>1.0</td>\n",
       "      <td>NaN</td>\n",
       "      <td>NaN</td>\n",
       "      <td>This comment refers to a player's recent perfo...</td>\n",
       "      <td>9.0</td>\n",
       "      <td>0</td>\n",
       "      <td>1</td>\n",
       "    </tr>\n",
       "    <tr>\n",
       "      <th>15</th>\n",
       "      <td>england_epl/2014-2015/2015-02-21 - 18-00 Chels...</td>\n",
       "      <td>49</td>\n",
       "      <td>62</td>\n",
       "      <td>Los que no son del once de gala del Chelsea ha...</td>\n",
       "      <td>1.0</td>\n",
       "      <td>NaN</td>\n",
       "      <td>NaN</td>\n",
       "      <td>This comment contains information about player...</td>\n",
       "      <td>31.0</td>\n",
       "      <td>0</td>\n",
       "      <td>1</td>\n",
       "    </tr>\n",
       "    <tr>\n",
       "      <th>16</th>\n",
       "      <td>england_epl/2014-2015/2015-02-21 - 18-00 Chels...</td>\n",
       "      <td>58</td>\n",
       "      <td>66</td>\n",
       "      <td>El resto del equipo es el que viene jugando to...</td>\n",
       "      <td>1.0</td>\n",
       "      <td>NaN</td>\n",
       "      <td>NaN</td>\n",
       "      <td>This comment contains information about the te...</td>\n",
       "      <td>15.0</td>\n",
       "      <td>0</td>\n",
       "      <td>1</td>\n",
       "    </tr>\n",
       "    <tr>\n",
       "      <th>17</th>\n",
       "      <td>england_epl/2014-2015/2015-02-21 - 18-00 Chels...</td>\n",
       "      <td>62</td>\n",
       "      <td>73</td>\n",
       "      <td>Así que tenemos equipo más que competitivo, de...</td>\n",
       "      <td>0.0</td>\n",
       "      <td>NaN</td>\n",
       "      <td>NaN</td>\n",
       "      <td>This comment represents subjective opinion fro...</td>\n",
       "      <td>12.0</td>\n",
       "      <td>0</td>\n",
       "      <td>1</td>\n",
       "    </tr>\n",
       "    <tr>\n",
       "      <th>18</th>\n",
       "      <td>england_epl/2014-2015/2015-02-21 - 18-00 Chels...</td>\n",
       "      <td>66</td>\n",
       "      <td>75</td>\n",
       "      <td>Se sabría hacia Eden Hazard.</td>\n",
       "      <td>0.0</td>\n",
       "      <td>NaN</td>\n",
       "      <td>NaN</td>\n",
       "      <td>The comment seems to be in a different languag...</td>\n",
       "      <td>5.0</td>\n",
       "      <td>0</td>\n",
       "      <td>1</td>\n",
       "    </tr>\n",
       "    <tr>\n",
       "      <th>19</th>\n",
       "      <td>england_epl/2014-2015/2015-02-21 - 18-00 Chels...</td>\n",
       "      <td>73</td>\n",
       "      <td>79</td>\n",
       "      <td>Hazard que buscaba ahí ganar la línea de fondo.</td>\n",
       "      <td>0.0</td>\n",
       "      <td>NaN</td>\n",
       "      <td>NaN</td>\n",
       "      <td>This comment refers to a specific action in th...</td>\n",
       "      <td>9.0</td>\n",
       "      <td>0</td>\n",
       "      <td>1</td>\n",
       "    </tr>\n",
       "    <tr>\n",
       "      <th>20</th>\n",
       "      <td>england_epl/2014-2015/2015-02-21 - 18-00 Chels...</td>\n",
       "      <td>75</td>\n",
       "      <td>81</td>\n",
       "      <td>Se apoya en cuadrado.</td>\n",
       "      <td>0.0</td>\n",
       "      <td>NaN</td>\n",
       "      <td>NaN</td>\n",
       "      <td>The comment seems to be in a different languag...</td>\n",
       "      <td>4.0</td>\n",
       "      <td>0</td>\n",
       "      <td>1</td>\n",
       "    </tr>\n",
       "    <tr>\n",
       "      <th>21</th>\n",
       "      <td>england_epl/2014-2015/2015-02-21 - 18-00 Chels...</td>\n",
       "      <td>79</td>\n",
       "      <td>84</td>\n",
       "      <td>Cuadrado que deja esa pelota atrás para Matic.</td>\n",
       "      <td>0.0</td>\n",
       "      <td>NaN</td>\n",
       "      <td>NaN</td>\n",
       "      <td>This comment refers to a specific event in the...</td>\n",
       "      <td>8.0</td>\n",
       "      <td>0</td>\n",
       "      <td>1</td>\n",
       "    </tr>\n",
       "    <tr>\n",
       "      <th>22</th>\n",
       "      <td>england_epl/2014-2015/2015-02-21 - 18-00 Chels...</td>\n",
       "      <td>81</td>\n",
       "      <td>89</td>\n",
       "      <td>Dominando ya territorialmente el Chelsea despu...</td>\n",
       "      <td>1.0</td>\n",
       "      <td>NaN</td>\n",
       "      <td>NaN</td>\n",
       "      <td>This comment refers to the current game's stat...</td>\n",
       "      <td>14.0</td>\n",
       "      <td>0</td>\n",
       "      <td>1</td>\n",
       "    </tr>\n",
       "    <tr>\n",
       "      <th>23</th>\n",
       "      <td>england_epl/2014-2015/2015-02-21 - 18-00 Chels...</td>\n",
       "      <td>88</td>\n",
       "      <td>94</td>\n",
       "      <td>Dejaba cuadrado de nuevo para Hazard.</td>\n",
       "      <td>0.0</td>\n",
       "      <td>NaN</td>\n",
       "      <td>NaN</td>\n",
       "      <td>This comment refers to a specific event in the...</td>\n",
       "      <td>6.0</td>\n",
       "      <td>0</td>\n",
       "      <td>1</td>\n",
       "    </tr>\n",
       "    <tr>\n",
       "      <th>24</th>\n",
       "      <td>england_epl/2014-2015/2015-02-21 - 18-00 Chels...</td>\n",
       "      <td>89</td>\n",
       "      <td>99</td>\n",
       "      <td>Está Juan Cuadrado con Ivanovic, Ivanovic, Mat...</td>\n",
       "      <td>0.0</td>\n",
       "      <td>NaN</td>\n",
       "      <td>NaN</td>\n",
       "      <td>This comment refers to the players' positions ...</td>\n",
       "      <td>8.0</td>\n",
       "      <td>0</td>\n",
       "      <td>1</td>\n",
       "    </tr>\n",
       "    <tr>\n",
       "      <th>25</th>\n",
       "      <td>england_epl/2014-2015/2015-02-21 - 18-00 Chels...</td>\n",
       "      <td>94</td>\n",
       "      <td>106</td>\n",
       "      <td>Filtrando esa pelota para su compatriota, un I...</td>\n",
       "      <td>1.0</td>\n",
       "      <td>NaN</td>\n",
       "      <td>NaN</td>\n",
       "      <td>This comment refers to a specific event in the...</td>\n",
       "      <td>18.0</td>\n",
       "      <td>0</td>\n",
       "      <td>1</td>\n",
       "    </tr>\n",
       "    <tr>\n",
       "      <th>26</th>\n",
       "      <td>england_epl/2014-2015/2015-02-21 - 18-00 Chels...</td>\n",
       "      <td>104</td>\n",
       "      <td>112</td>\n",
       "      <td>Y ya van unos cuantos, no solo esta temporada,...</td>\n",
       "      <td>1.0</td>\n",
       "      <td>NaN</td>\n",
       "      <td>NaN</td>\n",
       "      <td>This comment contains past person stats.</td>\n",
       "      <td>15.0</td>\n",
       "      <td>0</td>\n",
       "      <td>1</td>\n",
       "    </tr>\n",
       "    <tr>\n",
       "      <th>27</th>\n",
       "      <td>england_epl/2014-2015/2015-02-21 - 18-00 Chels...</td>\n",
       "      <td>106</td>\n",
       "      <td>117</td>\n",
       "      <td>Creo que tengo por ahí la estadística, son 27 ...</td>\n",
       "      <td>1.0</td>\n",
       "      <td>NaN</td>\n",
       "      <td>NaN</td>\n",
       "      <td>This comment contains specific statistics abou...</td>\n",
       "      <td>19.0</td>\n",
       "      <td>0</td>\n",
       "      <td>1</td>\n",
       "    </tr>\n",
       "    <tr>\n",
       "      <th>28</th>\n",
       "      <td>england_epl/2014-2015/2015-02-21 - 18-00 Chels...</td>\n",
       "      <td>116</td>\n",
       "      <td>124</td>\n",
       "      <td>Fantástica cifra para un lateral que alguna ve...</td>\n",
       "      <td>1.0</td>\n",
       "      <td>NaN</td>\n",
       "      <td>NaN</td>\n",
       "      <td>This comment contains past player stats and pe...</td>\n",
       "      <td>23.0</td>\n",
       "      <td>0</td>\n",
       "      <td>1</td>\n",
       "    </tr>\n",
       "    <tr>\n",
       "      <th>29</th>\n",
       "      <td>england_epl/2014-2015/2015-02-21 - 18-00 Chels...</td>\n",
       "      <td>122</td>\n",
       "      <td>130</td>\n",
       "      <td>Un jugador que además cumple muy bien con su l...</td>\n",
       "      <td>1.0</td>\n",
       "      <td>NaN</td>\n",
       "      <td>NaN</td>\n",
       "      <td>This comment contains past player statistics a...</td>\n",
       "      <td>16.0</td>\n",
       "      <td>0</td>\n",
       "      <td>1</td>\n",
       "    </tr>\n",
       "  </tbody>\n",
       "</table>\n",
       "</div>"
      ],
      "text/plain": [
       "                                                 game  start  end  \\\n",
       "0   england_epl/2014-2015/2015-02-21 - 18-00 Chels...      0    3   \n",
       "1   england_epl/2014-2015/2015-02-21 - 18-00 Chels...      0    9   \n",
       "2   england_epl/2014-2015/2015-02-21 - 18-00 Chels...      8   11   \n",
       "3   england_epl/2014-2015/2015-02-21 - 18-00 Chels...      9   18   \n",
       "4   england_epl/2014-2015/2015-02-21 - 18-00 Chels...     17   19   \n",
       "5   england_epl/2014-2015/2015-02-21 - 18-00 Chels...     18   20   \n",
       "6   england_epl/2014-2015/2015-02-21 - 18-00 Chels...     19   24   \n",
       "7   england_epl/2014-2015/2015-02-21 - 18-00 Chels...     20   31   \n",
       "8   england_epl/2014-2015/2015-02-21 - 18-00 Chels...     30   36   \n",
       "9   england_epl/2014-2015/2015-02-21 - 18-00 Chels...     33   37   \n",
       "10  england_epl/2014-2015/2015-02-21 - 18-00 Chels...     36   41   \n",
       "11  england_epl/2014-2015/2015-02-21 - 18-00 Chels...     37   44   \n",
       "12  england_epl/2014-2015/2015-02-21 - 18-00 Chels...     41   46   \n",
       "13  england_epl/2014-2015/2015-02-21 - 18-00 Chels...     44   49   \n",
       "14  england_epl/2014-2015/2015-02-21 - 18-00 Chels...     46   53   \n",
       "15  england_epl/2014-2015/2015-02-21 - 18-00 Chels...     49   62   \n",
       "16  england_epl/2014-2015/2015-02-21 - 18-00 Chels...     58   66   \n",
       "17  england_epl/2014-2015/2015-02-21 - 18-00 Chels...     62   73   \n",
       "18  england_epl/2014-2015/2015-02-21 - 18-00 Chels...     66   75   \n",
       "19  england_epl/2014-2015/2015-02-21 - 18-00 Chels...     73   79   \n",
       "20  england_epl/2014-2015/2015-02-21 - 18-00 Chels...     75   81   \n",
       "21  england_epl/2014-2015/2015-02-21 - 18-00 Chels...     79   84   \n",
       "22  england_epl/2014-2015/2015-02-21 - 18-00 Chels...     81   89   \n",
       "23  england_epl/2014-2015/2015-02-21 - 18-00 Chels...     88   94   \n",
       "24  england_epl/2014-2015/2015-02-21 - 18-00 Chels...     89   99   \n",
       "25  england_epl/2014-2015/2015-02-21 - 18-00 Chels...     94  106   \n",
       "26  england_epl/2014-2015/2015-02-21 - 18-00 Chels...    104  112   \n",
       "27  england_epl/2014-2015/2015-02-21 - 18-00 Chels...    106  117   \n",
       "28  england_epl/2014-2015/2015-02-21 - 18-00 Chels...    116  124   \n",
       "29  england_epl/2014-2015/2015-02-21 - 18-00 Chels...    122  130   \n",
       "\n",
       "                                                 text  付加的情報か  大分類  小分類  \\\n",
       "0    Arrancó ya el duelo, maneja la pelota el Barley.     0.0  NaN  NaN   \n",
       "1   Hay que decir que también se midieron en el pr...     1.0  NaN  NaN   \n",
       "2                              El Barley se adelantó.     0.0  NaN  NaN   \n",
       "3   Hay que recordar que se adelantó en ese partid...     1.0  NaN  NaN   \n",
       "4              Exactamente, justo lo que iba a decir.     0.0  NaN  NaN   \n",
       "5                      Recuerdo muy bien ese partido.     0.0  NaN  NaN   \n",
       "6   Empezó bien el Barley, marcó un gol, pero el C...     0.0  NaN  NaN   \n",
       "7   Por eso hoy tampoco debería tener problemas, p...     0.0  NaN  NaN   \n",
       "8   Arrancaba con la pelota cuadrado, dejaba para ...     0.0  NaN  NaN   \n",
       "9                         Ahí está de nuevo cuadrado.     0.0  NaN  NaN   \n",
       "10  Chelsea que queda a la derecha de la imagen en...     0.0  NaN  NaN   \n",
       "11                          A la izquierda el Barley.     0.0  NaN  NaN   \n",
       "12  Cuadrado que vuelve a recibir oportunidad como...     0.0  NaN  NaN   \n",
       "13   Ya lo fue contra el Everton, hoy vuelve a serlo.     0.0  NaN  NaN   \n",
       "14            Jugó el otro día un rato contra el PSG.     1.0  NaN  NaN   \n",
       "15  Los que no son del once de gala del Chelsea ha...     1.0  NaN  NaN   \n",
       "16  El resto del equipo es el que viene jugando to...     1.0  NaN  NaN   \n",
       "17  Así que tenemos equipo más que competitivo, de...     0.0  NaN  NaN   \n",
       "18                       Se sabría hacia Eden Hazard.     0.0  NaN  NaN   \n",
       "19    Hazard que buscaba ahí ganar la línea de fondo.     0.0  NaN  NaN   \n",
       "20                              Se apoya en cuadrado.     0.0  NaN  NaN   \n",
       "21     Cuadrado que deja esa pelota atrás para Matic.     0.0  NaN  NaN   \n",
       "22  Dominando ya territorialmente el Chelsea despu...     1.0  NaN  NaN   \n",
       "23              Dejaba cuadrado de nuevo para Hazard.     0.0  NaN  NaN   \n",
       "24  Está Juan Cuadrado con Ivanovic, Ivanovic, Mat...     0.0  NaN  NaN   \n",
       "25  Filtrando esa pelota para su compatriota, un I...     1.0  NaN  NaN   \n",
       "26  Y ya van unos cuantos, no solo esta temporada,...     1.0  NaN  NaN   \n",
       "27  Creo que tengo por ahí la estadística, son 27 ...     1.0  NaN  NaN   \n",
       "28  Fantástica cifra para un lateral que alguna ve...     1.0  NaN  NaN   \n",
       "29  Un jugador que además cumple muy bien con su l...     1.0  NaN  NaN   \n",
       "\n",
       "                                                   備考  text_length  start_bin  \\\n",
       "0   This comment does not contain any supplementar...          9.0          0   \n",
       "1        This comment contains historical match data.         21.0          0   \n",
       "2   This comment refers to a specific event in the...          4.0          0   \n",
       "3   This comment contains historical match statist...         17.0          0   \n",
       "4   This comment does not contain any supplementar...          7.0          0   \n",
       "5   This comment refers to a specific match and th...          5.0          0   \n",
       "6   This comment contains subjective opinion from ...         13.0          0   \n",
       "7   This comment is a subjective opinion from the ...         20.0          0   \n",
       "8   This comment does not contain any supplementar...          8.0          0   \n",
       "9   This comment refers to a player's action in th...          5.0          0   \n",
       "10  This comment refers to the position of the tea...         13.0          0   \n",
       "11  This comment does not contain any supplementar...          5.0          0   \n",
       "12  This comment refers to a player's opportunity ...          8.0          0   \n",
       "13  This comment refers to a player's previous per...         10.0          0   \n",
       "14  This comment refers to a player's recent perfo...          9.0          0   \n",
       "15  This comment contains information about player...         31.0          0   \n",
       "16  This comment contains information about the te...         15.0          0   \n",
       "17  This comment represents subjective opinion fro...         12.0          0   \n",
       "18  The comment seems to be in a different languag...          5.0          0   \n",
       "19  This comment refers to a specific action in th...          9.0          0   \n",
       "20  The comment seems to be in a different languag...          4.0          0   \n",
       "21  This comment refers to a specific event in the...          8.0          0   \n",
       "22  This comment refers to the current game's stat...         14.0          0   \n",
       "23  This comment refers to a specific event in the...          6.0          0   \n",
       "24  This comment refers to the players' positions ...          8.0          0   \n",
       "25  This comment refers to a specific event in the...         18.0          0   \n",
       "26           This comment contains past person stats.         15.0          0   \n",
       "27  This comment contains specific statistics abou...         19.0          0   \n",
       "28  This comment contains past player stats and pe...         23.0          0   \n",
       "29  This comment contains past player statistics a...         16.0          0   \n",
       "\n",
       "    half  \n",
       "0      1  \n",
       "1      1  \n",
       "2      1  \n",
       "3      1  \n",
       "4      1  \n",
       "5      1  \n",
       "6      1  \n",
       "7      1  \n",
       "8      1  \n",
       "9      1  \n",
       "10     1  \n",
       "11     1  \n",
       "12     1  \n",
       "13     1  \n",
       "14     1  \n",
       "15     1  \n",
       "16     1  \n",
       "17     1  \n",
       "18     1  \n",
       "19     1  \n",
       "20     1  \n",
       "21     1  \n",
       "22     1  \n",
       "23     1  \n",
       "24     1  \n",
       "25     1  \n",
       "26     1  \n",
       "27     1  \n",
       "28     1  \n",
       "29     1  "
      ]
     },
     "execution_count": 21,
     "metadata": {},
     "output_type": "execute_result"
    }
   ],
   "source": [
    "all_game_df.head(30)"
   ]
  },
  {
   "cell_type": "markdown",
   "metadata": {},
   "source": []
  },
  {
   "cell_type": "code",
   "execution_count": 22,
   "metadata": {},
   "outputs": [
    {
     "name": "stdout",
     "output_type": "stream",
     "text": [
      "0.001977464368330722\n",
      "発話の時間間隔の平均: 5.0472190549179405秒 (00:05)\n"
     ]
    },
    {
     "data": {
      "text/plain": [
       "count    427984.000000\n",
       "mean          5.047219\n",
       "std          24.395134\n",
       "min           0.000000\n",
       "25%           2.000000\n",
       "50%           3.000000\n",
       "75%           5.000000\n",
       "max        2738.000000\n",
       "Name: interval, dtype: float64"
      ]
     },
     "execution_count": 22,
     "metadata": {},
     "output_type": "execute_result"
    }
   ],
   "source": [
    "# 発話の時間間隔の平均を計算する\n",
    "all_game_df[\"prev_start\"] = all_game_df[\"start\"].shift(1).fillna(0)\n",
    "all_game_df[\"prev_end\"] = all_game_df[\"end\"].shift(1).fillna(0)\n",
    "all_game_df[\"interval\"] = all_game_df[\"start\"] - all_game_df[\"prev_start\"]\n",
    "\n",
    "print(\n",
    "    all_game_df.loc[all_game_df[\"interval\"] < 0, \"interval\"].count()\n",
    "    / all_game_df[\"interval\"].count()\n",
    ")\n",
    "# インターバルがマイナスのものを削除\n",
    "all_game_df.loc[all_game_df[\"interval\"] < 0, \"interval\"] = pd.NA\n",
    "\n",
    "start_intarval_mean = all_game_df[\"interval\"].mean(skipna=True)\n",
    "print(\n",
    "    f\"発話の時間間隔の平均: {start_intarval_mean}秒 ({seconds_to_gametime(start_intarval_mean)})\"\n",
    ")\n",
    "all_game_df[\"interval\"].describe()"
   ]
  },
  {
   "cell_type": "code",
   "execution_count": 23,
   "metadata": {},
   "outputs": [
    {
     "name": "stdout",
     "output_type": "stream",
     "text": [
      "0.00225704381256817\n",
      "付加的情報を除いた発話の時間間隔の平均: 5.650411299924234秒 (00:05)\n"
     ]
    },
    {
     "name": "stderr",
     "output_type": "stream",
     "text": [
      "/var/folders/8y/94zytg1j1h339lyf_x2r_ptr0000gn/T/ipykernel_72559/4147113240.py:3: SettingWithCopyWarning: \n",
      "A value is trying to be set on a copy of a slice from a DataFrame.\n",
      "Try using .loc[row_indexer,col_indexer] = value instead\n",
      "\n",
      "See the caveats in the documentation: https://pandas.pydata.org/pandas-docs/stable/user_guide/indexing.html#returning-a-view-versus-a-copy\n",
      "  non_supplemental_df[\"prev_start\"] = non_supplemental_df[\"start\"].shift(1).fillna(0)\n",
      "/var/folders/8y/94zytg1j1h339lyf_x2r_ptr0000gn/T/ipykernel_72559/4147113240.py:4: SettingWithCopyWarning: \n",
      "A value is trying to be set on a copy of a slice from a DataFrame.\n",
      "Try using .loc[row_indexer,col_indexer] = value instead\n",
      "\n",
      "See the caveats in the documentation: https://pandas.pydata.org/pandas-docs/stable/user_guide/indexing.html#returning-a-view-versus-a-copy\n",
      "  non_supplemental_df[\"prev_end\"] = non_supplemental_df[\"end\"].shift(1).fillna(0)\n",
      "/var/folders/8y/94zytg1j1h339lyf_x2r_ptr0000gn/T/ipykernel_72559/4147113240.py:5: SettingWithCopyWarning: \n",
      "A value is trying to be set on a copy of a slice from a DataFrame.\n",
      "Try using .loc[row_indexer,col_indexer] = value instead\n",
      "\n",
      "See the caveats in the documentation: https://pandas.pydata.org/pandas-docs/stable/user_guide/indexing.html#returning-a-view-versus-a-copy\n",
      "  non_supplemental_df[\"interval_2\"] = (\n"
     ]
    },
    {
     "data": {
      "text/plain": [
       "count    369560.000000\n",
       "mean          5.650411\n",
       "std          22.796206\n",
       "min           0.000000\n",
       "25%           2.000000\n",
       "50%           3.000000\n",
       "75%           6.000000\n",
       "max        2746.000000\n",
       "Name: interval_2, dtype: float64"
      ]
     },
     "execution_count": 23,
     "metadata": {},
     "output_type": "execute_result"
    }
   ],
   "source": [
    "# 付加的情報を除いた発話の時間間隔の平均を計算する\n",
    "non_supplemental_df = all_game_df[all_game_df[binary_category_name] == 0]\n",
    "non_supplemental_df[\"prev_start\"] = non_supplemental_df[\"start\"].shift(1).fillna(0)\n",
    "non_supplemental_df[\"prev_end\"] = non_supplemental_df[\"end\"].shift(1).fillna(0)\n",
    "non_supplemental_df[\"interval_2\"] = (\n",
    "    non_supplemental_df[\"start\"] - non_supplemental_df[\"prev_start\"]\n",
    ")\n",
    "print(\n",
    "    non_supplemental_df.loc[non_supplemental_df[\"interval_2\"] < 0, \"interval_2\"].count()\n",
    "    / non_supplemental_df[\"interval_2\"].count()\n",
    ")\n",
    "\n",
    "# インターバルがマイナスのものを削除\n",
    "non_supplemental_df.loc[non_supplemental_df[\"interval_2\"] < 0, \"interval_2\"] = pd.NA\n",
    "\n",
    "non_supplemental_start_intarval_mean = non_supplemental_df[\"interval_2\"].mean(\n",
    "    skipna=True\n",
    ")\n",
    "print(\n",
    "    f\"付加的情報を除いた発話の時間間隔の平均: {non_supplemental_start_intarval_mean}秒 ({seconds_to_gametime(non_supplemental_start_intarval_mean)})\"\n",
    ")\n",
    "non_supplemental_df[\"interval_2\"].describe()"
   ]
  },
  {
   "cell_type": "code",
   "execution_count": 24,
   "metadata": {},
   "outputs": [
    {
     "data": {
      "text/plain": [
       "<Axes: title={'center': '付加的情報を除く'}>"
      ]
     },
     "execution_count": 24,
     "metadata": {},
     "output_type": "execute_result"
    },
    {
     "data": {
      "image/png": "[encoded data removed]",
      "text/plain": [
       "<Figure size 2000x1000 with 3 Axes>"
      ]
     },
     "metadata": {},
     "output_type": "display_data"
    }
   ],
   "source": [
    "# subplot histgrams\n",
    "fig, ax = plt.subplots(3, 1, figsize=(20, 10), sharex=True)\n",
    "ax[0].set_title(\"全ての発話\")\n",
    "ax[1].set_title(\"付加的情報のみ\")\n",
    "ax[2].set_title(\"付加的情報を除く\")\n",
    "\n",
    "all_game_df[\"interval\"].hist(bins=40, range=(0, 40), ax=ax[0])\n",
    "\n",
    "all_game_df[all_game_df[binary_category_name] == 1][\"interval\"].hist(\n",
    "    bins=40, range=(0, 40), ax=ax[1]\n",
    ")\n",
    "\n",
    "non_supplemental_df[\"interval_2\"].hist(bins=40, range=(0, 40), ax=ax[2])"
   ]
  },
  {
   "cell_type": "code",
   "execution_count": 25,
   "metadata": {},
   "outputs": [
    {
     "name": "stdout",
     "output_type": "stream",
     "text": [
      "全コメントの20秒インターバル後の発話数:7047\n",
      "付加的情報のみの20秒インターバル後の発話数:1507\n",
      "rate1: 0.01643300873069174\n",
      "rate2: 0.026570048309178744\n"
     ]
    }
   ],
   "source": [
    "# インターバルが20秒以上のものを表示\n",
    "all_game_df[\"interval_over_20\"] = all_game_df[\"interval\"] > 20\n",
    "\n",
    "\n",
    "# 全コメント　20秒以上の沈黙の後の発話テキストのラベル\n",
    "rate1 = all_game_df[\"interval_over_20\"].sum() / len(all_game_df)\n",
    "\n",
    "# 付加的情報のみ　20秒以上の沈黙の後の発話テキストのラベル\n",
    "rate2 = (\n",
    "    all_game_df[all_game_df[binary_category_name] == 1][\"interval_over_20\"].sum()\n",
    "    / len(all_game_df[all_game_df[binary_category_name] == 1])\n",
    ")\n",
    "\n",
    "print(\n",
    "    \"全コメントの20秒インターバル後の発話数:{}\\n付加的情報のみの20秒インターバル後の発話数:{}\".format(all_game_df[\"interval_over_20\"].sum(), all_game_df[all_game_df[binary_category_name] == 1][\"interval_over_20\"].sum())\n",
    ")\n",
    "\n",
    "print(\"rate1: {}\\nrate2: {}\".format(rate1, rate2))"
   ]
  },
  {
   "cell_type": "code",
   "execution_count": 26,
   "metadata": {},
   "outputs": [
    {
     "name": "stdout",
     "output_type": "stream",
     "text": [
      "全コメントの10秒インターバル後の発話数:30170\n",
      "付加的情報のみの10秒インターバル後の発話数:5912\n",
      "rate1: 0.07035389150063429\n",
      "rate2: 0.10423498712930639\n"
     ]
    }
   ],
   "source": [
    "# インターバルが10秒以上のものを表示\n",
    "interval_length = 10\n",
    "\n",
    "all_game_df[f\"interval_over_{interval_length}\"] = all_game_df[\"interval\"] > 10\n",
    "\n",
    "\n",
    "# 全コメント　20秒以上の沈黙の後の発話テキストのラベル\n",
    "rate1 = all_game_df[f\"interval_over_{interval_length}\"].sum() / len(all_game_df)\n",
    "\n",
    "# 付加的情報のみ　20秒以上の沈黙の後の発話テキストのラベル\n",
    "rate2 = all_game_df[all_game_df[binary_category_name] == 1][\n",
    "    f\"interval_over_{interval_length}\"\n",
    "].sum() / len(all_game_df[all_game_df[binary_category_name] == 1])\n",
    "\n",
    "print(\n",
    "    \"全コメントの{}秒インターバル後の発話数:{}\\n付加的情報のみの{}秒インターバル後の発話数:{}\".format(\n",
    "        interval_length,\n",
    "        all_game_df[f\"interval_over_{interval_length}\"].sum(),\n",
    "        interval_length,\n",
    "        all_game_df[all_game_df[binary_category_name] == 1][f\"interval_over_{interval_length}\"].sum(),\n",
    "    )\n",
    ")\n",
    "\n",
    "print(\"rate1: {}\\nrate2: {}\".format(rate1, rate2))"
   ]
  },
  {
   "cell_type": "code",
   "execution_count": 27,
   "metadata": {},
   "outputs": [
    {
     "name": "stdout",
     "output_type": "stream",
     "text": [
      "全コメントの30秒インターバル後の発話数:2835\n",
      "付加的情報のみの30秒インターバル後の発話数:674\n",
      "rate1: 0.006610980523841505\n",
      "rate2: 0.011883352727529179\n"
     ]
    }
   ],
   "source": [
    "# インターバルが30秒以上のものを表示\n",
    "interval_length = 30\n",
    "\n",
    "all_game_df[f\"interval_over_{interval_length}\"] = all_game_df[\"interval\"] > interval_length\n",
    "\n",
    "\n",
    "rate1 = all_game_df[f\"interval_over_{interval_length}\"].sum() / len(all_game_df)\n",
    "\n",
    "rate2 = all_game_df[all_game_df[binary_category_name] == 1][\n",
    "    f\"interval_over_{interval_length}\"\n",
    "].sum() / len(all_game_df[all_game_df[binary_category_name] == 1])\n",
    "\n",
    "print(\n",
    "    \"全コメントの{}秒インターバル後の発話数:{}\\n付加的情報のみの{}秒インターバル後の発話数:{}\".format(\n",
    "        interval_length,\n",
    "        all_game_df[f\"interval_over_{interval_length}\"].sum(),\n",
    "        interval_length,\n",
    "        all_game_df[all_game_df[binary_category_name] == 1][\n",
    "            f\"interval_over_{interval_length}\"\n",
    "        ].sum(),\n",
    "    )\n",
    ")\n",
    "\n",
    "print(\"rate1: {}\\nrate2: {}\".format(rate1, rate2))"
   ]
  },
  {
   "cell_type": "code",
   "execution_count": 28,
   "metadata": {},
   "outputs": [
    {
     "data": {
      "text/html": [
       "<div>\n",
       "<style scoped>\n",
       "    .dataframe tbody tr th:only-of-type {\n",
       "        vertical-align: middle;\n",
       "    }\n",
       "\n",
       "    .dataframe tbody tr th {\n",
       "        vertical-align: top;\n",
       "    }\n",
       "\n",
       "    .dataframe thead th {\n",
       "        text-align: right;\n",
       "    }\n",
       "</style>\n",
       "<table border=\"1\" class=\"dataframe\">\n",
       "  <thead>\n",
       "    <tr style=\"text-align: right;\">\n",
       "      <th></th>\n",
       "      <th>game</th>\n",
       "      <th>start</th>\n",
       "      <th>end</th>\n",
       "      <th>text</th>\n",
       "      <th>付加的情報か</th>\n",
       "      <th>大分類</th>\n",
       "      <th>小分類</th>\n",
       "      <th>備考</th>\n",
       "      <th>text_length</th>\n",
       "      <th>start_bin</th>\n",
       "      <th>half</th>\n",
       "      <th>prev_start</th>\n",
       "      <th>prev_end</th>\n",
       "      <th>interval</th>\n",
       "      <th>interval_over_20</th>\n",
       "      <th>interval_over_10</th>\n",
       "      <th>interval_over_30</th>\n",
       "    </tr>\n",
       "  </thead>\n",
       "  <tbody>\n",
       "    <tr>\n",
       "      <th>54670</th>\n",
       "      <td>europe_uefa-champions-league/2014-2015/2015-03...</td>\n",
       "      <td>1438</td>\n",
       "      <td>1490</td>\n",
       "      <td>No not from me, it's too close, he's rolled up...</td>\n",
       "      <td>1.0</td>\n",
       "      <td>NaN</td>\n",
       "      <td>NaN</td>\n",
       "      <td>This comment contains detailed play-by-play de...</td>\n",
       "      <td>107.0</td>\n",
       "      <td>4</td>\n",
       "      <td>1</td>\n",
       "      <td>1391.0</td>\n",
       "      <td>1447.0</td>\n",
       "      <td>47.0</td>\n",
       "      <td>True</td>\n",
       "      <td>True</td>\n",
       "      <td>True</td>\n",
       "    </tr>\n",
       "    <tr>\n",
       "      <th>54671</th>\n",
       "      <td>europe_uefa-champions-league/2014-2015/2015-03...</td>\n",
       "      <td>1484</td>\n",
       "      <td>1504</td>\n",
       "      <td>Not close enough from Matic but nobody on the ...</td>\n",
       "      <td>0.0</td>\n",
       "      <td>NaN</td>\n",
       "      <td>NaN</td>\n",
       "      <td>This comment contains subjective opinion from ...</td>\n",
       "      <td>37.0</td>\n",
       "      <td>4</td>\n",
       "      <td>1</td>\n",
       "      <td>1438.0</td>\n",
       "      <td>1490.0</td>\n",
       "      <td>46.0</td>\n",
       "      <td>True</td>\n",
       "      <td>True</td>\n",
       "      <td>True</td>\n",
       "    </tr>\n",
       "  </tbody>\n",
       "</table>\n",
       "</div>"
      ],
      "text/plain": [
       "                                                    game  start   end  \\\n",
       "54670  europe_uefa-champions-league/2014-2015/2015-03...   1438  1490   \n",
       "54671  europe_uefa-champions-league/2014-2015/2015-03...   1484  1504   \n",
       "\n",
       "                                                    text  付加的情報か  大分類  小分類  \\\n",
       "54670  No not from me, it's too close, he's rolled up...     1.0  NaN  NaN   \n",
       "54671  Not close enough from Matic but nobody on the ...     0.0  NaN  NaN   \n",
       "\n",
       "                                                      備考  text_length  \\\n",
       "54670  This comment contains detailed play-by-play de...        107.0   \n",
       "54671  This comment contains subjective opinion from ...         37.0   \n",
       "\n",
       "       start_bin  half  prev_start  prev_end  interval  interval_over_20  \\\n",
       "54670          4     1      1391.0    1447.0      47.0              True   \n",
       "54671          4     1      1438.0    1490.0      46.0              True   \n",
       "\n",
       "       interval_over_10  interval_over_30  \n",
       "54670              True              True  \n",
       "54671              True              True  "
      ]
     },
     "execution_count": 28,
     "metadata": {},
     "output_type": "execute_result"
    }
   ],
   "source": [
    "all_game_df.iloc[[54670, 54671]]"
   ]
  },
  {
   "cell_type": "code",
   "execution_count": 29,
   "metadata": {},
   "outputs": [
    {
     "data": {
      "text/html": [
       "<div>\n",
       "<style scoped>\n",
       "    .dataframe tbody tr th:only-of-type {\n",
       "        vertical-align: middle;\n",
       "    }\n",
       "\n",
       "    .dataframe tbody tr th {\n",
       "        vertical-align: top;\n",
       "    }\n",
       "\n",
       "    .dataframe thead th {\n",
       "        text-align: right;\n",
       "    }\n",
       "</style>\n",
       "<table border=\"1\" class=\"dataframe\">\n",
       "  <thead>\n",
       "    <tr style=\"text-align: right;\">\n",
       "      <th></th>\n",
       "      <th>game</th>\n",
       "      <th>start</th>\n",
       "      <th>end</th>\n",
       "      <th>text</th>\n",
       "      <th>付加的情報か</th>\n",
       "      <th>大分類</th>\n",
       "      <th>小分類</th>\n",
       "      <th>備考</th>\n",
       "      <th>text_length</th>\n",
       "      <th>start_bin</th>\n",
       "      <th>half</th>\n",
       "      <th>prev_start</th>\n",
       "      <th>prev_end</th>\n",
       "      <th>interval</th>\n",
       "      <th>interval_over_20</th>\n",
       "      <th>interval_over_10</th>\n",
       "      <th>interval_over_30</th>\n",
       "    </tr>\n",
       "  </thead>\n",
       "  <tbody>\n",
       "    <tr>\n",
       "      <th>251678</th>\n",
       "      <td>england_epl/2016-2017/2017-01-02 - 18-00 Sunde...</td>\n",
       "      <td>1433</td>\n",
       "      <td>1436</td>\n",
       "      <td>Van Aanholt.</td>\n",
       "      <td>0.0</td>\n",
       "      <td>NaN</td>\n",
       "      <td>NaN</td>\n",
       "      <td>This comment simply refers a player name.</td>\n",
       "      <td>NaN</td>\n",
       "      <td>4</td>\n",
       "      <td>2</td>\n",
       "      <td>1427.0</td>\n",
       "      <td>1436.0</td>\n",
       "      <td>6.0</td>\n",
       "      <td>False</td>\n",
       "      <td>False</td>\n",
       "      <td>False</td>\n",
       "    </tr>\n",
       "    <tr>\n",
       "      <th>251679</th>\n",
       "      <td>england_epl/2016-2017/2017-01-02 - 18-00 Sunde...</td>\n",
       "      <td>1433</td>\n",
       "      <td>1487</td>\n",
       "      <td>And this will be quite a dent in Paul's hopes ...</td>\n",
       "      <td>0.0</td>\n",
       "      <td>NaN</td>\n",
       "      <td>NaN</td>\n",
       "      <td>This comment contains subjective opinion from ...</td>\n",
       "      <td>NaN</td>\n",
       "      <td>4</td>\n",
       "      <td>2</td>\n",
       "      <td>1433.0</td>\n",
       "      <td>1436.0</td>\n",
       "      <td>0.0</td>\n",
       "      <td>False</td>\n",
       "      <td>False</td>\n",
       "      <td>False</td>\n",
       "    </tr>\n",
       "    <tr>\n",
       "      <th>251680</th>\n",
       "      <td>england_epl/2016-2017/2017-01-02 - 18-00 Sunde...</td>\n",
       "      <td>1485</td>\n",
       "      <td>1502</td>\n",
       "      <td>Jurgen Klopp has been playing a few mind games...</td>\n",
       "      <td>0.0</td>\n",
       "      <td>NaN</td>\n",
       "      <td>NaN</td>\n",
       "      <td>This comment refers to a coach's recent statem...</td>\n",
       "      <td>NaN</td>\n",
       "      <td>4</td>\n",
       "      <td>2</td>\n",
       "      <td>1433.0</td>\n",
       "      <td>1487.0</td>\n",
       "      <td>52.0</td>\n",
       "      <td>True</td>\n",
       "      <td>True</td>\n",
       "      <td>True</td>\n",
       "    </tr>\n",
       "  </tbody>\n",
       "</table>\n",
       "</div>"
      ],
      "text/plain": [
       "                                                     game  start   end  \\\n",
       "251678  england_epl/2016-2017/2017-01-02 - 18-00 Sunde...   1433  1436   \n",
       "251679  england_epl/2016-2017/2017-01-02 - 18-00 Sunde...   1433  1487   \n",
       "251680  england_epl/2016-2017/2017-01-02 - 18-00 Sunde...   1485  1502   \n",
       "\n",
       "                                                     text  付加的情報か  大分類  小分類  \\\n",
       "251678                                       Van Aanholt.     0.0  NaN  NaN   \n",
       "251679  And this will be quite a dent in Paul's hopes ...     0.0  NaN  NaN   \n",
       "251680  Jurgen Klopp has been playing a few mind games...     0.0  NaN  NaN   \n",
       "\n",
       "                                                       備考  text_length  \\\n",
       "251678          This comment simply refers a player name.          NaN   \n",
       "251679  This comment contains subjective opinion from ...          NaN   \n",
       "251680  This comment refers to a coach's recent statem...          NaN   \n",
       "\n",
       "        start_bin  half  prev_start  prev_end  interval  interval_over_20  \\\n",
       "251678          4     2      1427.0    1436.0       6.0             False   \n",
       "251679          4     2      1433.0    1436.0       0.0             False   \n",
       "251680          4     2      1433.0    1487.0      52.0              True   \n",
       "\n",
       "        interval_over_10  interval_over_30  \n",
       "251678             False             False  \n",
       "251679             False             False  \n",
       "251680              True              True  "
      ]
     },
     "execution_count": 29,
     "metadata": {},
     "output_type": "execute_result"
    }
   ],
   "source": [
    "all_game_df.iloc[[251678, 251679, 251680]]"
   ]
  },
  {
   "cell_type": "code",
   "execution_count": 30,
   "metadata": {},
   "outputs": [
    {
     "data": {
      "text/plain": [
       "count    182576.000000\n",
       "mean          8.233755\n",
       "std          48.231208\n",
       "min           1.000000\n",
       "25%           3.000000\n",
       "50%           6.000000\n",
       "75%          10.000000\n",
       "max        7321.000000\n",
       "Name: text_length, dtype: float64"
      ]
     },
     "execution_count": 30,
     "metadata": {},
     "output_type": "execute_result"
    }
   ],
   "source": [
    "# 文字数の比較\n",
    "all_game_df[all_game_df[binary_category_name] == 0][\"text_length\"].describe()\n"
   ]
  },
  {
   "cell_type": "code",
   "execution_count": 31,
   "metadata": {},
   "outputs": [
    {
     "data": {
      "text/plain": [
       "count    29931.000000\n",
       "mean        21.435134\n",
       "std        176.709888\n",
       "min          1.000000\n",
       "25%          6.000000\n",
       "50%         10.000000\n",
       "75%         16.000000\n",
       "max       9097.000000\n",
       "Name: text_length, dtype: float64"
      ]
     },
     "execution_count": 31,
     "metadata": {},
     "output_type": "execute_result"
    }
   ],
   "source": [
    "# 文字数の比較\n",
    "all_game_df[all_game_df[binary_category_name] == 1][\"text_length\"].describe()"
   ]
  },
  {
   "cell_type": "code",
   "execution_count": 32,
   "metadata": {},
   "outputs": [
    {
     "data": {
      "text/plain": [
       "[\"He's got a great run.\",\n",
       " 'Walt Browse to try and orchestrate something here for Southampton.',\n",
       " 'Mignolet.']"
      ]
     },
     "execution_count": 32,
     "metadata": {},
     "output_type": "execute_result"
    }
   ],
   "source": [
    "all_game_df.iloc[[1932, 1933, 1934]][\"text\"].tolist()"
   ]
  },
  {
   "cell_type": "code",
   "execution_count": 33,
   "metadata": {},
   "outputs": [
    {
     "name": "stdout",
     "output_type": "stream",
     "text": [
      "{102773: 'Die Bundesliga ist ein spannendes Spiel.', 126491: 'Умброно Перес.', 260055: \"The news that could really make Arsenal's night, of course, is that it comes in from the Westfalenstadion.\", 427589: 'Roca Isco.', 384830: 'Un Marcelo que, bueno, en este partido empezó dando una asistencia fantástica al Cristiano Ronaldo,', 380320: \"It's nodded in and Caicedo!\", 259701: 'Anthony Vandenberghe qui garde ce ballon.', 259683: 'Schmelzer qui sort.', 152369: 'Лорини, Лорини.', 255241: \"They're going to have a free kick to keep the pressure on.\", 366126: 'Кусай.', 10128: \"He's got a chance.\", 151767: 'И он мяч не удержал.', 18228: 'Aspilla Quetta comfortable coming in and making up a three if you like.', 34482: 'And you can see immediately that the foot kind of sprung backwards.', 20354: 'Chested down by Reid, but only as far as Oscar.', 343030: 'Какая техника не самая пока вразумительная правда.', 210010: 'Hemos visto muchísimos casos de laterales izquierdos que son diestros, pero ver un zurdo en el lateral derecho es bastante más extraño, francamente raro.', 87896: 'Neymar est très bien aussi sur coup franc.', 246869: 'That was an easy decision for the referee.'}\n",
      "-------------\n",
      "{108974: 'Nichts mit Eingewöhnung.', 58646: \"It's poor defending down that side initially from Paris Saint-Germain.\", 14746: 'We will hear from you in the space.', 318575: 'Blattner hat gesagt, da war die Hand doch angelegt.', 343531: 'А когда вернулся из всяких арен, это было в позапрошлом сезоне, и в паре с Салаком начал рвать буквально два года назад, команда дошла до финала Кубка Италии.', 77234: 'Dann kommt High H Eftesse.', 316716: 'Schlampe.', 188568: 'No se había comunicado riesgo que es el que tiene que pegarle el grito a esa pelota y por eso le pide perdón al central argentino Al lanzamiento Toni Kroos, la pone Kroos con rosca, primer palo saltaba por esa bola Bale, el rechazo es para Isco que quiere rearmar la jugada, Isco con Kroos que recorta pisar y así que Kroos la pone, Kroos con la puntera, la saca Fran Rico tercera tentativa de forma consecutiva para el Real Madrid, Isco, balón colgado por Kroos, ha tocado en un defensor, la baja con el pecho Pepe en acción invalidada por fuera de juego del Centro Internacional por Portugal.', 369319: 'Почувствовал хорошую визуаль-партнеру.', 223665: \"I think they just got to look a little bit more direct They got to get their crosses in and get them up in the air so the big fella can attack it gets there these top quality when he's attacking balls in the air, but You've got to give him something to attack.\", 77616: 'Against Matich.', 383843: 'El Bernabéu se hace notar como pedían los jugadores del Real Madrid al público de cara al partido contra la Juventus tan importante el próximo miércoles se está teniendo que hacer notar en el día de hoy porque la situación se ha puesto complicadísima para el equipo de Ancelotti.', 315351: 'Einer ist immer frei.', 323153: 'Wir nähern uns der Schlussviertelstunde, wir warten immer noch bis der BVB die vorhandene Qualität auch auf die Darmstädter Wiese bekommt.', 188953: 'es lo que pita Dicaprio sí, sí, lo pita se acerca a Gerda Turán también Jordi Alba para reclamar Carturi en amarilla se ha dado un buen golpe Neymar se duele de su rodilla derecha pero se va a levantar sin problemas falta clara de Hugo Mayor, capitán del Celta está bien Neymar, lo está intentando todo está siendo bastante dañino de momento desde la primera jugada que causó esa falta es que desintiende Hugo Mayor es que es cartulina ¿no?', 385784: '¿Que está feliz?', 321382: 'Die Chance war eine ganz gute.', 289818: 'DinobarstartAIlkompliment .', 194788: 'Benzema en la fronta, el balón para Isco, que se perfila, Isco... Palmea el mismo Ochoa, balón a Körner, otra para el Real Madrid.', 43671: 'Ja, beschwert sich, glaube ich, auch Vidovic Boas beim Assistenten an der Linie, dass er das nicht gesehen hat.'}\n"
     ]
    }
   ],
   "source": [
    "# 内容の違いを確認\n",
    "print(all_game_df[\"text\"].sample(20).to_dict())\n",
    "print(\"-------------\")\n",
    "print(all_game_df[all_game_df[\"interval_over_30\"] == 1][\"text\"].sample(20).to_dict())\n",
    "# 例：The Belgian international who was injured here in Basel, made it back for the UEFA Europa League final which Liverpool lost to Sevilla."
   ]
  },
  {
   "cell_type": "code",
   "execution_count": 34,
   "metadata": {},
   "outputs": [
    {
     "name": "stdout",
     "output_type": "stream",
     "text": [
      "付加的情報の文字数の平均: 21.831781797665645\n",
      "付加的情報のインターバル10秒のあとの文字数の平均: 57.357070365358595\n",
      "付加的情報の文字数の平均: 21.831781797665645\n",
      "付加的情報のインターバル20秒のあとの文字数の平均: 127.99203715992037\n",
      "付加的情報の文字数の平均: 21.831781797665645\n",
      "付加的情報のインターバル30秒のあとの文字数の平均: 234.8412462908012\n"
     ]
    }
   ],
   "source": [
    "# 付加的情報のうち、長いインターバルのあとの発話の文字数と、そうではない場合の発話の文字数の平均を比較\n",
    "for interval_length in [10, 20, 30]:\n",
    "    all_game_df[\"text_length\"] = all_game_df[\"text\"].apply(lambda x: len(x.split()))\n",
    "    text_length_normal_interval = all_game_df[all_game_df[binary_category_name] == 1][\"text_length\"].mean()\n",
    "    text_length_long_interval = all_game_df[\n",
    "        (all_game_df[binary_category_name] == 1)\n",
    "        & (all_game_df[f\"interval_over_{interval_length}\"] == 1)][\"text_length\"].mean()\n",
    "    print(\n",
    "        f\"付加的情報の文字数の平均: {text_length_normal_interval}\\n付加的情報のインターバル{interval_length}秒のあとの文字数の平均: {text_length_long_interval}\"\n",
    "    )"
   ]
  },
  {
   "cell_type": "code",
   "execution_count": 35,
   "metadata": {},
   "outputs": [
    {
     "data": {
      "text/plain": [
       "count    56718.000000\n",
       "mean        21.831782\n",
       "std        186.067409\n",
       "min          1.000000\n",
       "25%          6.000000\n",
       "50%          9.000000\n",
       "75%         16.000000\n",
       "max       9097.000000\n",
       "Name: text_length, dtype: float64"
      ]
     },
     "execution_count": 35,
     "metadata": {},
     "output_type": "execute_result"
    }
   ],
   "source": [
    "all_game_df[\n",
    "    (all_game_df[binary_category_name] == 1)\n",
    "][\"text_length\"].describe()"
   ]
  },
  {
   "cell_type": "code",
   "execution_count": 36,
   "metadata": {},
   "outputs": [
    {
     "data": {
      "text/plain": [
       "count     674.000000\n",
       "mean      234.841246\n",
       "std       694.405511\n",
       "min         1.000000\n",
       "25%        10.000000\n",
       "50%        26.000000\n",
       "75%       102.000000\n",
       "max      6568.000000\n",
       "Name: text_length, dtype: float64"
      ]
     },
     "execution_count": 36,
     "metadata": {},
     "output_type": "execute_result"
    }
   ],
   "source": [
    "all_game_df[\n",
    "    (all_game_df[binary_category_name] == 1) & (all_game_df[\"interval_over_30\"] == 1)\n",
    "][\"text_length\"].describe()"
   ]
  },
  {
   "cell_type": "code",
   "execution_count": 37,
   "metadata": {},
   "outputs": [
    {
     "data": {
      "text/plain": [
       "count    1507.000000\n",
       "mean      127.992037\n",
       "std       487.893624\n",
       "min         1.000000\n",
       "25%         9.000000\n",
       "50%        18.000000\n",
       "75%        49.000000\n",
       "max      6568.000000\n",
       "Name: text_length, dtype: float64"
      ]
     },
     "execution_count": 37,
     "metadata": {},
     "output_type": "execute_result"
    }
   ],
   "source": [
    "all_game_df[\n",
    "    (all_game_df[binary_category_name] == 1) & (all_game_df[\"interval_over_20\"] == 1)\n",
    "][\"text_length\"].describe()"
   ]
  },
  {
   "cell_type": "code",
   "execution_count": 38,
   "metadata": {},
   "outputs": [
    {
     "data": {
      "text/plain": [
       "<Axes: >"
      ]
     },
     "execution_count": 38,
     "metadata": {},
     "output_type": "execute_result"
    },
    {
     "data": {
      "image/png": "[encoded data removed]",
      "text/plain": [
       "<Figure size 640x480 with 1 Axes>"
      ]
     },
     "metadata": {},
     "output_type": "display_data"
    }
   ],
   "source": [
    "all_game_df[\n",
    "    (all_game_df[binary_category_name] == 1) & (all_game_df[\"interval_over_30\"] == 1)\n",
    "][\"text_length\"].hist(bins=40, range=(0, 2000))"
   ]
  },
  {
   "cell_type": "code",
   "execution_count": 39,
   "metadata": {},
   "outputs": [
    {
     "name": "stdout",
     "output_type": "stream",
     "text": [
      "付加的情報の文字数の平均: 10.471738679440998\n",
      "付加的情報の長いインターバルのあとの文字数の平均: 12.416666666666666\n"
     ]
    }
   ],
   "source": [
    "# 外れ値を除去\n",
    "# データを大きいものから順番に並べて4等分する（分割点が四分位数）\n",
    "# 「四分位範囲（IQR）＝第3四分位数（Q3） － 第1四分位数（Q1）」\n",
    "# upper_bound = 「第3四分位数+1.5×IQRより小さい最大値」\n",
    "# lower_bound =「第1四分位数-1.5×IQRより大きい最小値」\n",
    "\n",
    "\n",
    "upper_bound = all_game_df[all_game_df[binary_category_name] == 1][\n",
    "    \"text_length\"\n",
    "].quantile(0.75) + 1.5 * (\n",
    "    all_game_df[all_game_df[binary_category_name] == 1][\"text_length\"].quantile(0.75)\n",
    "    - all_game_df[all_game_df[binary_category_name] == 1][\"text_length\"].quantile(0.25)\n",
    ")\n",
    "lower_bound = all_game_df[all_game_df[binary_category_name] == 1][\n",
    "    \"text_length\"\n",
    "].quantile(0.25) - 1.5 * (\n",
    "    all_game_df[all_game_df[binary_category_name] == 1][\"text_length\"].quantile(0.75)\n",
    "    - all_game_df[all_game_df[binary_category_name] == 1][\"text_length\"].quantile(0.25)\n",
    ")\n",
    "\n",
    "\n",
    "text_length_normal_interval = all_game_df[\n",
    "    (all_game_df[binary_category_name] == 1)\n",
    "    & (all_game_df[\"text_length\"] < upper_bound)\n",
    "    & (lower_bound < all_game_df[\"text_length\"])\n",
    "][\"text_length\"].mean()\n",
    "text_length_long_interval = all_game_df[\n",
    "    (all_game_df[binary_category_name] == 1)\n",
    "    & (all_game_df[\"interval_over_30\"] == 1)\n",
    "    & (all_game_df[\"text_length\"] < upper_bound)\n",
    "    & (lower_bound < all_game_df[\"text_length\"])\n",
    "][\"text_length\"].mean()\n",
    "print(\n",
    "    f\"付加的情報の文字数の平均: {text_length_normal_interval}\\n付加的情報の長いインターバルのあとの文字数の平均: {text_length_long_interval}\"\n",
    ")"
   ]
  },
  {
   "cell_type": "code",
   "execution_count": 40,
   "metadata": {},
   "outputs": [
    {
     "name": "stdout",
     "output_type": "stream",
     "text": [
      "付加的情報の文字数の平均: 10.471738679440998\n",
      "付加的情報の長いインターバルのあとの文字数の平均: 12.297160243407708\n"
     ]
    }
   ],
   "source": [
    "# 外れ値を除去\n",
    "upper_bound = all_game_df[all_game_df[binary_category_name] == 1][\n",
    "    \"text_length\"\n",
    "].quantile(0.75) + 1.5 * (\n",
    "    all_game_df[all_game_df[binary_category_name] == 1][\"text_length\"].quantile(0.75)\n",
    "    - all_game_df[all_game_df[binary_category_name] == 1][\"text_length\"].quantile(0.25)\n",
    ")\n",
    "lower_bound = all_game_df[all_game_df[binary_category_name] == 1][\n",
    "    \"text_length\"\n",
    "].quantile(0.25) - 1.5 * (\n",
    "    all_game_df[all_game_df[binary_category_name] == 1][\"text_length\"].quantile(0.75)\n",
    "    - all_game_df[all_game_df[binary_category_name] == 1][\"text_length\"].quantile(0.25)\n",
    ")\n",
    "\n",
    "\n",
    "text_length_normal_interval = all_game_df[\n",
    "    (all_game_df[binary_category_name] == 1)\n",
    "    & (all_game_df[\"text_length\"] < upper_bound)\n",
    "    & (lower_bound < all_game_df[\"text_length\"])\n",
    "][\"text_length\"].mean()\n",
    "text_length_long_interval = all_game_df[\n",
    "    (all_game_df[binary_category_name] == 1)\n",
    "    & (all_game_df[\"interval_over_20\"] == 1)\n",
    "    & (all_game_df[\"text_length\"] < upper_bound)\n",
    "    & (lower_bound < all_game_df[\"text_length\"])\n",
    "][\"text_length\"].mean()\n",
    "print(\n",
    "    f\"付加的情報の文字数の平均: {text_length_normal_interval}\\n付加的情報の長いインターバルのあとの文字数の平均: {text_length_long_interval}\"\n",
    ")"
   ]
  },
  {
   "cell_type": "code",
   "execution_count": 41,
   "metadata": {},
   "outputs": [
    {
     "data": {
      "text/plain": [
       "<Axes: title={'center': '付加的情報を含まない'}>"
      ]
     },
     "execution_count": 41,
     "metadata": {},
     "output_type": "execute_result"
    },
    {
     "data": {
      "image/png": "[encoded data removed]",
      "text/plain": [
       "<Figure size 2000x1000 with 3 Axes>"
      ]
     },
     "metadata": {},
     "output_type": "display_data"
    }
   ],
   "source": [
    "# 発話区間の長さの調査\n",
    "# ポアソン分布っぽい形をしている\n",
    "\n",
    "fig, ax = plt.subplots(3, 1, figsize=(20, 10), sharex=True)\n",
    "ax[0].set_title(\"全ての発話\")\n",
    "ax[1].set_title(\"付加的情報を含む\")\n",
    "ax[2].set_title(\"付加的情報を含まない\")\n",
    "\n",
    "all_game_df[\"duration\"] = all_game_df[\"end\"] - all_game_df[\"start\"]\n",
    "\n",
    "all_game_df[\"duration\"].hist(bins=40, range=(0, 40), ax=ax[0])\n",
    "all_game_df[all_game_df[binary_category_name] == 1][\"duration\"].hist(\n",
    "    bins=40, range=(0, 40), ax=ax[1]\n",
    ")\n",
    "all_game_df[all_game_df[binary_category_name] == 0][\"duration\"].hist(\n",
    "    bins=40, range=(0, 40), ax=ax[2]\n",
    ")"
   ]
  },
  {
   "cell_type": "code",
   "execution_count": 42,
   "metadata": {},
   "outputs": [
    {
     "name": "stdout",
     "output_type": "stream",
     "text": [
      "Total number of overlaps across all games: 422593\n",
      "Total duration of overlaps across all games (in seconds): 2432696\n"
     ]
    }
   ],
   "source": [
    "# ゲームごとにグループ化\n",
    "grouped = all_game_df.groupby(\"game\")\n",
    "\n",
    "# is overlapped\n",
    "all_game_df[\"is_overlapped\"] = False\n",
    "\n",
    "# オーバーラップの集計用変数\n",
    "total_overlaps = 0\n",
    "total_overlap_duration = 0\n",
    "\n",
    "# 各ゲームのグループをループ処理\n",
    "for game, group in grouped:\n",
    "    # 開始時間に基づいてソート\n",
    "    sorted_group = group.sort_values(by=\"start\")\n",
    "\n",
    "    # オーバーラップを検出し計算\n",
    "    for i in range(len(sorted_group) - 1):\n",
    "        current_end = sorted_group.iloc[i][\"end\"]\n",
    "        next_start = sorted_group.iloc[i + 1][\"start\"]\n",
    "        if current_end > next_start:\n",
    "            # flag\n",
    "            all_game_df.loc[sorted_group.index[i], \"is_overlapped\"] = True\n",
    "            total_overlaps += 1\n",
    "            overlap_duration = current_end - next_start\n",
    "            total_overlap_duration += overlap_duration\n",
    "\n",
    "# 統計量を表示\n",
    "print(f\"Total number of overlaps across all games: {total_overlaps}\")\n",
    "print(\n",
    "    f\"Total duration of overlaps across all games (in seconds): {total_overlap_duration}\"\n",
    ")\n"
   ]
  },
  {
   "cell_type": "code",
   "execution_count": 43,
   "metadata": {},
   "outputs": [
    {
     "name": "stdout",
     "output_type": "stream",
     "text": [
      "1つオーバーラップの平均秒数: 5.756593223266831\n"
     ]
    }
   ],
   "source": [
    "print(f\"1つオーバーラップの平均秒数: {total_overlap_duration / total_overlaps}\")"
   ]
  },
  {
   "cell_type": "code",
   "execution_count": 44,
   "metadata": {},
   "outputs": [
    {
     "name": "stdout",
     "output_type": "stream",
     "text": [
      "発話数 428832\n",
      "1試合あたりの平均発話数 932.2434782608696\n",
      "1発話あたりの平均文字数 10.025422543093798\n",
      "付加的情報の1発話あたりの平均文字数 21.831781797665645\n",
      "1発話あたりの平均発話時間 8.501102996045072\n",
      "付加的情報の1発話あたりの平均発話時間 13.742762438731972\n",
      "発話間の平均沈黙時間 5.0472190549179405\n",
      "付加的情報の発話の平均沈黙時間 7.004894944247115\n",
      "発話のオーバーラップの割合 0.9854511790164913\n",
      "付加的情報の発話のオーバーラップの割合 0.9901265912056137\n"
     ]
    }
   ],
   "source": [
    "# 発話数\n",
    "print(f\"発話数 {len(all_game_df)}\")\n",
    "# 1試合あたりの平均発話数\n",
    "mean_speech_count = len(all_game_df) / len(grouped)\n",
    "print(f\"1試合あたりの平均発話数 {mean_speech_count}\")\n",
    "\n",
    "# 1発話あたりの平均文字数\n",
    "print(f\"1発話あたりの平均文字数 {all_game_df['text_length'].mean()}\")\n",
    "print(\n",
    "    f\"付加的情報の1発話あたりの平均文字数 {all_game_df[all_game_df[binary_category_name] == 1]['text_length'].mean()}\"\n",
    ")\n",
    "\n",
    "# 1発話あたりの平均発話時間\n",
    "print(f\"1発話あたりの平均発話時間 {all_game_df['duration'].mean()}\")\n",
    "print(\n",
    "    f\"付加的情報の1発話あたりの平均発話時間 {all_game_df[all_game_df[binary_category_name] == 1]['duration'].mean()}\"\n",
    ")\n",
    "\n",
    "# 発話間の平均沈黙時間\n",
    "print(f\"発話間の平均沈黙時間 {all_game_df['interval'].mean()}\")\n",
    "print(\n",
    "    f\"付加的情報の発話の平均沈黙時間 {all_game_df[all_game_df[binary_category_name] == 1]['interval'].mean()}\"\n",
    ")\n",
    "\n",
    "# 発話のオーバーラップの割合\n",
    "print(f\"発話のオーバーラップの割合 {all_game_df['is_overlapped'].sum() / len(all_game_df)}\")\n",
    "print(\n",
    "    f\"付加的情報の発話のオーバーラップの割合 {all_game_df[all_game_df[binary_category_name] == 1]['is_overlapped'].sum() / len(all_game_df[all_game_df[binary_category_name] == 1])}\"\n",
    ")"
   ]
  },
  {
   "cell_type": "code",
   "execution_count": 45,
   "metadata": {},
   "outputs": [
    {
     "name": "stderr",
     "output_type": "stream",
     "text": [
      "/var/folders/8y/94zytg1j1h339lyf_x2r_ptr0000gn/T/ipykernel_72559/1962875498.py:7: UserWarning: Boolean Series key will be reindexed to match DataFrame index.\n",
      "  grouped = elminated_game_df[\n"
     ]
    }
   ],
   "source": [
    "# 遷移確率の調査\n",
    "# 試合ごとに，0 -> 1, 1-> 0, 1 -> 1, 0 -> 0 の割合を算出し，平均をとる\n",
    "\n",
    "elminated_game_df = all_game_df[\n",
    "    (all_game_df[binary_category_name] == 1) | (all_game_df[binary_category_name] == 0)\n",
    "]\n",
    "grouped = elminated_game_df[\n",
    "    (all_game_df[binary_category_name] == 1) | (all_game_df[binary_category_name] == 0)\n",
    "].groupby(\"game\")\n",
    "\n",
    "buffer = []\n",
    "\n",
    "for game, group in grouped:\n",
    "    # 開始時間に基づいてソート\n",
    "    sorted_group = group.sort_values(by=\"start\")\n",
    "\n",
    "    for i in range(len(sorted_group) - 1):\n",
    "        current_label = sorted_group.iloc[i][binary_category_name]\n",
    "        next_label = sorted_group.iloc[i + 1][binary_category_name]\n",
    "        assert current_label in [0, 1]\n",
    "        assert next_label in [0, 1]\n",
    "        buffer.append(\n",
    "            {\n",
    "                \"game\": game,\n",
    "                \"0_to_1\": (current_label == 0 and next_label == 1),\n",
    "                \"1_to_0\": (current_label == 1 and next_label == 0),\n",
    "                \"1_to_1\": (current_label == 1 and next_label == 1),\n",
    "                \"0_to_0\": (current_label == 0 and next_label == 0),\n",
    "            }\n",
    "        )\n",
    "\n",
    "transition_df = pd.DataFrame(buffer)"
   ]
  },
  {
   "cell_type": "code",
   "execution_count": 46,
   "metadata": {},
   "outputs": [
    {
     "name": "stdout",
     "output_type": "stream",
     "text": [
      "elminated_game_df 427114\n",
      "transition_df 426656\n"
     ]
    }
   ],
   "source": [
    "print(\"elminated_game_df\", len(elminated_game_df))\n",
    "print(\"transition_df\", len(transition_df))\n"
   ]
  },
  {
   "cell_type": "code",
   "execution_count": 47,
   "metadata": {},
   "outputs": [
    {
     "name": "stdout",
     "output_type": "stream",
     "text": [
      "1試合あたりの平均沈黙時間 0.0\n"
     ]
    }
   ],
   "source": [
    "# 1試合あたりの平均沈黙時間\n",
    "all_game_df[\"interval_true\"] = all_game_df[\"start\"] - all_game_df[\"prev_end\"]\n",
    "\n",
    "all_game_df.loc[all_game_df[\"interval_true\"] < 0, \"interval_true\"] = pd.NA\n",
    "all_game_df[\"interval_true\"] = all_game_df[\"interval_true\"].fillna(0)\n",
    "\n",
    "print(f\"1試合あたりの平均沈黙時間 {all_game_df.groupby('game')['interval_true'].mean().mean()}\")"
   ]
  },
  {
   "cell_type": "code",
   "execution_count": 48,
   "metadata": {},
   "outputs": [
    {
     "data": {
      "text/plain": [
       "count    428832.0\n",
       "mean          0.0\n",
       "std           0.0\n",
       "min           0.0\n",
       "25%           0.0\n",
       "50%           0.0\n",
       "75%           0.0\n",
       "max           0.0\n",
       "Name: interval_true, dtype: float64"
      ]
     },
     "execution_count": 48,
     "metadata": {},
     "output_type": "execute_result"
    }
   ],
   "source": [
    "all_game_df[\"interval_true\"].describe()"
   ]
  },
  {
   "cell_type": "code",
   "execution_count": 49,
   "metadata": {},
   "outputs": [
    {
     "name": "stdout",
     "output_type": "stream",
     "text": [
      "全コメント10秒インターバル後の発話数:0\n",
      "付加的情報のみの10秒インターバル後の発話数:0\n",
      "rate1: 0.0\n",
      "rate2: 0.0\n",
      "全コメント20秒インターバル後の発話数:0\n",
      "付加的情報のみの20秒インターバル後の発話数:0\n",
      "rate1: 0.0\n",
      "rate2: 0.0\n",
      "全コメント30秒インターバル後の発話数:0\n",
      "付加的情報のみの30秒インターバル後の発話数:0\n",
      "rate1: 0.0\n",
      "rate2: 0.0\n"
     ]
    }
   ],
   "source": [
    "# インターバルが30秒以上のものを表示\n",
    "for interval_length in [10, 20, 30]:\n",
    "    all_game_df[f\"interval_true_over_{interval_length}\"] = (\n",
    "        all_game_df[\"interval_true\"] > interval_length\n",
    "    )\n",
    "    # 全コメント　interval_length秒以上の沈黙の後の発話テキストのラベル\n",
    "    rate1 = all_game_df[f\"interval_true_over_{interval_length}\"].sum() / len(all_game_df)\n",
    "\n",
    "    # 付加的情報のみ　interval_length秒以上の沈黙の後の発話テキストのラベル\n",
    "    rate2 = all_game_df[all_game_df[binary_category_name] == 1][\n",
    "        f\"interval_true_over_{interval_length}\"\n",
    "    ].sum() / len(all_game_df[all_game_df[binary_category_name] == 1])\n",
    "\n",
    "    print(\n",
    "        \"全コメント{}秒インターバル後の発話数:{}\\n付加的情報のみの{}秒インターバル後の発話数:{}\".format(\n",
    "            interval_length,\n",
    "            all_game_df[f\"interval_true_over_{interval_length}\"].sum(),\n",
    "            interval_length,\n",
    "            all_game_df[all_game_df[binary_category_name] == 1][\n",
    "                f\"interval_true_over_{interval_length}\"\n",
    "            ].sum(),\n",
    "        )\n",
    "    )\n",
    "\n",
    "    print(\"rate1: {}\\nrate2: {}\".format(rate1, rate2))"
   ]
  },
  {
   "cell_type": "code",
   "execution_count": 50,
   "metadata": {},
   "outputs": [
    {
     "data": {
      "text/plain": [
       "<BarContainer object of 40 artists>"
      ]
     },
     "execution_count": 50,
     "metadata": {},
     "output_type": "execute_result"
    },
    {
     "data": {
      "image/png": "[encoded data removed]",
      "text/plain": [
       "<Figure size 640x480 with 1 Axes>"
      ]
     },
     "metadata": {},
     "output_type": "display_data"
    }
   ],
   "source": [
    "count, division = np.histogram(all_game_df[\"interval_true\"], bins=40, range=(0, 40))\n",
    "count = count / count.sum()\n",
    "plt.bar(division[:-1], count, width=1)"
   ]
  },
  {
   "cell_type": "code",
   "execution_count": 51,
   "metadata": {},
   "outputs": [
    {
     "data": {
      "text/html": [
       "<div>\n",
       "<style scoped>\n",
       "    .dataframe tbody tr th:only-of-type {\n",
       "        vertical-align: middle;\n",
       "    }\n",
       "\n",
       "    .dataframe tbody tr th {\n",
       "        vertical-align: top;\n",
       "    }\n",
       "\n",
       "    .dataframe thead th {\n",
       "        text-align: right;\n",
       "    }\n",
       "</style>\n",
       "<table border=\"1\" class=\"dataframe\">\n",
       "  <thead>\n",
       "    <tr style=\"text-align: right;\">\n",
       "      <th></th>\n",
       "      <th>start</th>\n",
       "      <th>end</th>\n",
       "      <th>prev_end</th>\n",
       "      <th>interval_true</th>\n",
       "    </tr>\n",
       "  </thead>\n",
       "  <tbody>\n",
       "    <tr>\n",
       "      <th>0</th>\n",
       "      <td>0</td>\n",
       "      <td>3</td>\n",
       "      <td>0.0</td>\n",
       "      <td>0.0</td>\n",
       "    </tr>\n",
       "    <tr>\n",
       "      <th>1</th>\n",
       "      <td>0</td>\n",
       "      <td>9</td>\n",
       "      <td>3.0</td>\n",
       "      <td>0.0</td>\n",
       "    </tr>\n",
       "    <tr>\n",
       "      <th>2</th>\n",
       "      <td>8</td>\n",
       "      <td>11</td>\n",
       "      <td>9.0</td>\n",
       "      <td>0.0</td>\n",
       "    </tr>\n",
       "    <tr>\n",
       "      <th>3</th>\n",
       "      <td>9</td>\n",
       "      <td>18</td>\n",
       "      <td>11.0</td>\n",
       "      <td>0.0</td>\n",
       "    </tr>\n",
       "    <tr>\n",
       "      <th>4</th>\n",
       "      <td>17</td>\n",
       "      <td>19</td>\n",
       "      <td>18.0</td>\n",
       "      <td>0.0</td>\n",
       "    </tr>\n",
       "    <tr>\n",
       "      <th>...</th>\n",
       "      <td>...</td>\n",
       "      <td>...</td>\n",
       "      <td>...</td>\n",
       "      <td>...</td>\n",
       "    </tr>\n",
       "    <tr>\n",
       "      <th>95</th>\n",
       "      <td>481</td>\n",
       "      <td>490</td>\n",
       "      <td>485.0</td>\n",
       "      <td>0.0</td>\n",
       "    </tr>\n",
       "    <tr>\n",
       "      <th>96</th>\n",
       "      <td>485</td>\n",
       "      <td>496</td>\n",
       "      <td>490.0</td>\n",
       "      <td>0.0</td>\n",
       "    </tr>\n",
       "    <tr>\n",
       "      <th>97</th>\n",
       "      <td>491</td>\n",
       "      <td>501</td>\n",
       "      <td>496.0</td>\n",
       "      <td>0.0</td>\n",
       "    </tr>\n",
       "    <tr>\n",
       "      <th>98</th>\n",
       "      <td>496</td>\n",
       "      <td>504</td>\n",
       "      <td>501.0</td>\n",
       "      <td>0.0</td>\n",
       "    </tr>\n",
       "    <tr>\n",
       "      <th>99</th>\n",
       "      <td>501</td>\n",
       "      <td>509</td>\n",
       "      <td>504.0</td>\n",
       "      <td>0.0</td>\n",
       "    </tr>\n",
       "  </tbody>\n",
       "</table>\n",
       "<p>100 rows × 4 columns</p>\n",
       "</div>"
      ],
      "text/plain": [
       "    start  end  prev_end  interval_true\n",
       "0       0    3       0.0            0.0\n",
       "1       0    9       3.0            0.0\n",
       "2       8   11       9.0            0.0\n",
       "3       9   18      11.0            0.0\n",
       "4      17   19      18.0            0.0\n",
       "..    ...  ...       ...            ...\n",
       "95    481  490     485.0            0.0\n",
       "96    485  496     490.0            0.0\n",
       "97    491  501     496.0            0.0\n",
       "98    496  504     501.0            0.0\n",
       "99    501  509     504.0            0.0\n",
       "\n",
       "[100 rows x 4 columns]"
      ]
     },
     "execution_count": 51,
     "metadata": {},
     "output_type": "execute_result"
    }
   ],
   "source": [
    "all_game_df[[\"start\",\"end\",  \"prev_end\", \"interval_true\"]].head(100)"
   ]
  },
  {
   "cell_type": "code",
   "execution_count": 52,
   "metadata": {},
   "outputs": [],
   "source": [
    "# soccernet_dfの前処理\n",
    "soccernet_df[\"time\"] = soccernet_df[\"time\"].apply(gametime_to_seconds)\n",
    "soccernet_df[\"start\"] = soccernet_df[\"time\"] - 5\n",
    "soccernet_df[\"end\"] = soccernet_df[\"time\"] + 5\n",
    "\n",
    "# game, half, time でソート\n",
    "soccernet_df = soccernet_df.sort_values(by=[\"game\", \"half\", \"time\"])"
   ]
  },
  {
   "cell_type": "code",
   "execution_count": 53,
   "metadata": {},
   "outputs": [
    {
     "name": "stdout",
     "output_type": "stream",
     "text": [
      "1\n"
     ]
    },
    {
     "name": "stderr",
     "output_type": "stream",
     "text": [
      "[nltk_data] Downloading package punkt to /Users/heste/nltk_data...\n",
      "[nltk_data]   Package punkt is already up-to-date!\n"
     ]
    }
   ],
   "source": [
    "import nltk\n",
    "\n",
    "nltk.download(\"punkt\")\n",
    "\n",
    "text = \"Thank you Connor right on cue and as we were suggesting the first half well Breton Rogers has gone for Alberto Moreno for the second half Joe Gomez request to right back now it seems as Scotland love for Ndombe the centre-back partnership here is Milner early touch for Moreno, Jose Gomez in about three Skirball Liverpool will look to find the start of the second half along the lines that West Ham found in the first that's worked on to Klein managed to keep it in play but wait for a West Ham goal kick so Brendan Rogers tinkered with his formation last season it looks like now with that Klein playing as a right wing back maybe Moreno left wing back and maybe more comfortable position for Joe Gomez alongside Skirtland Lovren yes I think he'll be comfortable there obviously he can use his pace as a three as such but they need to do something and now you've got the likes of Klein Moreno in advanced areas and they've got good quality when they do get in there and hopefully they'll be looking to find that killer pass\"\n",
    "\n",
    "li = nltk.sent_tokenize(text)\n",
    "print(len(li))"
   ]
  },
  {
   "cell_type": "code",
   "execution_count": 54,
   "metadata": {},
   "outputs": [
    {
     "name": "stdout",
     "output_type": "stream",
     "text": [
      "Vocabulary Size: 172876\n"
     ]
    }
   ],
   "source": [
    "# get unique words\n",
    "from nltk.tokenize import word_tokenize\n",
    "\n",
    "def calculate_vocabulary_size(corpus):\n",
    "    # コーパスをトークン化\n",
    "    tokens = word_tokenize(corpus)\n",
    "\n",
    "    # トークンのセットを作成して重複を排除し、語彙数を計算\n",
    "    vocabulary = set(tokens)\n",
    "    return len(vocabulary)\n",
    "\n",
    "\n",
    "# ここにコーパステキストを入力します。この例では英語のテキストを使用していますが、\n",
    "# 空白で単語が区切られている任意の言語に適用可能です。\n",
    "corpus_text = all_game_df[\"text\"].str.cat(sep=\" \")\n",
    "\n",
    "vocabulary_size = calculate_vocabulary_size(corpus_text)\n",
    "print(f\"Vocabulary Size: {vocabulary_size}\")"
   ]
  },
  {
   "cell_type": "code",
   "execution_count": 55,
   "metadata": {},
   "outputs": [
    {
     "name": "stdout",
     "output_type": "stream",
     "text": [
      "Unique labels:\n",
      "corner\n",
      "soccer-ball\n",
      "injury\n",
      "y-card\n",
      "whistle\n",
      "time\n",
      "attendance\n",
      "substitution\n",
      "r-card\n",
      "funfact\n",
      "soccer-ball-own\n",
      "penalty\n",
      "penalty-missed\n",
      "yr-card\n"
     ]
    }
   ],
   "source": [
    "soccernet_labels = soccernet_df[\"label\"].unique().tolist()\n",
    "print(f\"Unique labels:\")\n",
    "print(*soccernet_labels[1:], sep=\"\\n\") # nanを除く"
   ]
  },
  {
   "cell_type": "code",
   "execution_count": 56,
   "metadata": {},
   "outputs": [
    {
     "ename": "AssertionError",
     "evalue": "",
     "output_type": "error",
     "traceback": [
      "\u001b[0;31m---------------------------------------------------------------------------\u001b[0m",
      "\u001b[0;31mAssertionError\u001b[0m                            Traceback (most recent call last)",
      "Cell \u001b[0;32mIn[56], line 1\u001b[0m\n\u001b[0;32m----> 1\u001b[0m \u001b[38;5;28;01massert\u001b[39;00m \u001b[38;5;28;01mFalse\u001b[39;00m\n",
      "\u001b[0;31mAssertionError\u001b[0m: "
     ]
    }
   ],
   "source": [
    "assert False"
   ]
  },
  {
   "cell_type": "code",
   "execution_count": null,
   "metadata": {},
   "outputs": [
    {
     "name": "stderr",
     "output_type": "stream",
     "text": [
      "  0%|          | 0/471 [00:00<?, ?it/s]"
     ]
    },
    {
     "name": "stderr",
     "output_type": "stream",
     "text": [
      "100%|██████████| 471/471 [03:27<00:00,  2.27it/s]\n"
     ]
    }
   ],
   "source": [
    "\"\"\"\n",
    "soccernet_df の importantなコメントの前後5秒に含まれる，all_game_dfの実況コメントのラベルの割合を調べる手順\n",
    "1. all_game_dfの書くコメントの is_important を False で初期化\n",
    "2. soccernet_df を game でグループ化する\n",
    "2. game ごとに，\n",
    "    - soccernet_dfの各行について，important が True なら，all_game_dfの start が soccernet_dfの start, end に含まれるかを計算する\n",
    "    - 含まれるなら，all_game_dfのカラムに[is_important]を追加し，Trueにする\n",
    "3. all_game_df[is_important] = True の付加的情報かの割合を計算する\n",
    "\"\"\"\n",
    "all_game_df[\"is_important\"] = False\n",
    "grouped_soccernet = soccernet_df.groupby(\"game\")\n",
    "\n",
    "for game, soccernet_group in tqdm(grouped_soccernet):\n",
    "    for i, row in soccernet_group.iterrows():\n",
    "        if not row[\"important\"]:\n",
    "            continue\n",
    "\n",
    "        start = row[\"start\"]\n",
    "        end = row[\"end\"]\n",
    "        half = row[\"half\"]\n",
    "        # all_game_dfを直接更新するために、適切なインデックスを取得\n",
    "        all_game_indexes = all_game_df[\n",
    "            (all_game_df[\"game\"] == game)\n",
    "            & (all_game_df[\"half\"] == half)\n",
    "            & (all_game_df[\"start\"] >= start)\n",
    "            & (all_game_df[\"start\"] <= end)\n",
    "        ].index\n",
    "\n",
    "        all_game_df.loc[all_game_indexes, \"is_important\"] = True  # 時間かかる"
   ]
  },
  {
   "cell_type": "code",
   "execution_count": null,
   "metadata": {},
   "outputs": [
    {
     "name": "stdout",
     "output_type": "stream",
     "text": [
      "推定の重要コメント数 16874\n",
      "推定の重要コメントの付加的情報の割合 15.805381059618348%\n",
      "推定の重要コメントの付加的情報以外の割合 84.19461894038164%\n"
     ]
    }
   ],
   "source": [
    "# is_importantがTrueの行の割合を計算\n",
    "important_count = len(all_game_df[all_game_df[\"is_important\"] == True])\n",
    "total_count = len(all_game_df)\n",
    "important_ratio = important_count / total_count * 100\n",
    "\n",
    "print(f\"推定の重要コメント数 {important_count}\")\n",
    "\n",
    "important_addition_count = len(\n",
    "    all_game_df[\n",
    "        (all_game_df[\"is_important\"] == True) & (all_game_df[binary_category_name] == 1)\n",
    "    ]\n",
    ")\n",
    "other_comment = important_count - important_addition_count\n",
    "\n",
    "print(f\"推定の重要コメントの付加的情報の割合 {important_addition_count / important_count * 100}%\")\n",
    "print(f\"推定の重要コメントの付加的情報以外の割合 {other_comment / important_count * 100}%\")"
   ]
  },
  {
   "cell_type": "code",
   "execution_count": null,
   "metadata": {},
   "outputs": [
    {
     "name": "stderr",
     "output_type": "stream",
     "text": [
      "  7%|▋         | 1/15 [00:00<00:10,  1.40it/s]"
     ]
    }
   ],
   "source": [
    "# important と同じ処理を，soccernet_df の label(y-card, whisle, soccer-ball, etc...) の各項目ごとに行う\n",
    "soccernet_labels = soccernet_df[\"label\"].unique()\n",
    "grouped_soccernet = soccernet_df.groupby(\"game\")\n",
    "\n",
    "for action_label in tqdm(soccernet_labels):\n",
    "    all_game_df[f\"refer_{action_label}\"] = False\n",
    "\n",
    "    for game, soccernet_group in tqdm(grouped_soccernet, leave=False):\n",
    "        for i, row in soccernet_group.iterrows():\n",
    "            if not row[\"label\"] == action_label:\n",
    "                continue\n",
    "\n",
    "            start = row[\"start\"]\n",
    "            end = row[\"end\"]\n",
    "            half = row[\"half\"]\n",
    "            # all_game_dfを直接更新するために、適切なインデックスを取得\n",
    "            all_game_indexes = all_game_df[\n",
    "                (all_game_df[\"game\"] == game)\n",
    "                & (all_game_df[\"half\"] == half)\n",
    "                & (all_game_df[\"start\"] >= start)\n",
    "                & (all_game_df[\"start\"] <= end)\n",
    "            ].index\n",
    "\n",
    "            all_game_df.loc[all_game_indexes, f\"refer_{action_label}\"] = True  # 時間かかる"
   ]
  },
  {
   "cell_type": "code",
   "execution_count": null,
   "metadata": {},
   "outputs": [
    {
     "name": "stdout",
     "output_type": "stream",
     "text": [
      "推定のnan言及コメント数: 0\n",
      "推定のnan言及付加的情報コメント数: 0\n",
      "推定のcorner言及コメント数: 7914\n",
      "推定のcorner言及付加的情報コメント数: 929\n",
      "推定のcorner言及コメントの付加的情報の割合 11.738690927470307%\n",
      "推定のsoccer-ball言及コメント数: 2809\n",
      "推定のsoccer-ball言及付加的情報コメント数: 461\n",
      "推定のsoccer-ball言及コメントの付加的情報の割合 16.411534353862585%\n",
      "推定のinjury言及コメント数: 816\n",
      "推定のinjury言及付加的情報コメント数: 115\n",
      "推定のinjury言及コメントの付加的情報の割合 14.093137254901961%\n",
      "推定のy-card言及コメント数: 3337\n",
      "推定のy-card言及付加的情報コメント数: 569\n",
      "推定のy-card言及コメントの付加的情報の割合 17.051243632004795%\n",
      "推定のwhistle言及コメント数: 1209\n",
      "推定のwhistle言及付加的情報コメント数: 235\n",
      "推定のwhistle言及コメントの付加的情報の割合 19.43755169561621%\n",
      "推定のtime言及コメント数: 602\n",
      "推定のtime言及付加的情報コメント数: 130\n",
      "推定のtime言及コメントの付加的情報の割合 21.59468438538206%\n",
      "推定のattendance言及コメント数: 350\n",
      "推定のattendance言及付加的情報コメント数: 48\n",
      "推定のattendance言及コメントの付加的情報の割合 13.714285714285715%\n",
      "推定のsubstitution言及コメント数: 4723\n",
      "推定のsubstitution言及付加的情報コメント数: 802\n",
      "推定のsubstitution言及コメントの付加的情報の割合 16.980732585221258%\n",
      "推定のr-card言及コメント数: 97\n",
      "推定のr-card言及付加的情報コメント数: 9\n",
      "推定のr-card言及コメントの付加的情報の割合 9.278350515463918%\n",
      "推定のfunfact言及コメント数: 441\n",
      "推定のfunfact言及付加的情報コメント数: 43\n",
      "推定のfunfact言及コメントの付加的情報の割合 9.750566893424036%\n",
      "推定のsoccer-ball-own言及コメント数: 73\n",
      "推定のsoccer-ball-own言及付加的情報コメント数: 8\n",
      "推定のsoccer-ball-own言及コメントの付加的情報の割合 10.95890410958904%\n",
      "推定のpenalty言及コメント数: 345\n",
      "推定のpenalty言及付加的情報コメント数: 66\n",
      "推定のpenalty言及コメントの付加的情報の割合 19.130434782608695%\n",
      "推定のpenalty-missed言及コメント数: 99\n",
      "推定のpenalty-missed言及付加的情報コメント数: 13\n",
      "推定のpenalty-missed言及コメントの付加的情報の割合 13.131313131313133%\n",
      "推定のyr-card言及コメント数: 73\n",
      "推定のyr-card言及付加的情報コメント数: 17\n",
      "推定のyr-card言及コメントの付加的情報の割合 23.28767123287671%\n"
     ]
    }
   ],
   "source": [
    "for action_label in soccernet_labels:\n",
    "    refer_count = len(all_game_df[all_game_df[f\"refer_{action_label}\"] == True])\n",
    "    additional_info_refer_count = len(\n",
    "        all_game_df[\n",
    "            (all_game_df[f\"refer_{action_label}\"] == True)\n",
    "            & (all_game_df[binary_category_name] == 1)\n",
    "        ]\n",
    "    )\n",
    "\n",
    "    print(f\"推定の{action_label}言及コメント数: {refer_count}\")\n",
    "    print(f\"推定の{action_label}言及付加的情報コメント数: {additional_info_refer_count}\")\n",
    "    if refer_count == 0:\n",
    "        continue\n",
    "    else:\n",
    "        print(\n",
    "            f\"推定の{action_label}言及コメントの付加的情報の割合 {additional_info_refer_count / refer_count * 100}%\"\n",
    "        )"
   ]
  },
  {
   "cell_type": "code",
   "execution_count": null,
   "metadata": {},
   "outputs": [
    {
     "data": {
      "text/plain": [
       "['Марк Клатенбург пересчитал футболистов перед стартом с виском и удостоверившись, что у всех по 11, дал возможность начать с центра поля игрокам Пелоса.',\n",
       " \"Thank you Connor right on cue and as we were suggesting the first half well Breton Rogers has gone for Alberto Moreno for the second half Joe Gomez request to right back now it seems as Scotland love for Ndombe the centre-back partnership here is Milner early touch for Moreno, Jose Gomez in about three Skirball Liverpool will look to find the start of the second half along the lines that West Ham found in the first that's worked on to Klein managed to keep it in play but wait for a West Ham goal kick so Brendan Rogers tinkered with his formation last season it looks like now with that Klein playing as a right wing back maybe Moreno left wing back and maybe more comfortable position for Joe Gomez alongside Skirtland Lovren yes I think he'll be comfortable there obviously he can use his pace as a three as such but they need to do something and now you've got the likes of Klein Moreno in advanced areas and they've got good quality when they do get in there and hopefully they'll be looking to find that killer pass.\",\n",
       " 'Of course there have been a dearth of home wins in the Barclays Premier League this season.',\n",
       " \"after four matches he has been eight points behind before after four games it was in his final season at Real Madrid and he went on that season to finish 15 points behind Barcelona he is a front runner notoriously Jose Mourinho but he's got a different set of problems to deal with at the moment although there were signs towards the end of the first half with the Matich goal that the tide may be turning this ball forward in the second half by Mikel which is away by Seamus Coleman and Aruna Kone.\",\n",
       " \"But how much will Kevin De Bruyne's first City goal in first-half stoppage time change the outcome of this game?\"]"
      ]
     },
     "execution_count": 52,
     "metadata": {},
     "output_type": "execute_result"
    }
   ],
   "source": [
    "refer_with_time_df = all_game_df[\n",
    "    all_game_df[\"refer_time\"] & (all_game_df[binary_category_name] == 1)\n",
    "]\n",
    "\n",
    "refer_with_time_df[\"text\"].head().to_list()"
   ]
  },
  {
   "cell_type": "code",
   "execution_count": null,
   "metadata": {},
   "outputs": [
    {
     "data": {
      "text/plain": [
       "['Zweimal gelb.',\n",
       " 'Юлена ничего выдающегося не показывает, но при этом уже Гена проигрывает 0-1 и играет 10-0 после этого момента.',\n",
       " 'Max down to ten men.',\n",
       " 'A clear second yellow card for Joel Veltman.',\n",
       " 'Das heißt natürlich, Ulmer-Toprak wird im Achtelfinale-Hinspiel fehlen, gegen wen es denn auch immer gehen wird.',\n",
       " \"Di Michele's here, Savaleta in the Nou Camp, and it's the same story here.\",\n",
       " \"They played 50 minutes against Barcelona with ten men a year ago, and they're going to have to play the last 17 here, a man like.\",\n",
       " \"I think if he just goes in with one leg and tries to sweep it around, he'd probably got the ball two years ago.\",\n",
       " 'Rojas se va a la calle.',\n",
       " 'Es la segunda cartulina amarilla para el jugador del Zenit.',\n",
       " 'Segunda amarilla en apenas tres minutos.',\n",
       " 'En dos acciones protagonizadas por Cristiano Ronaldo.',\n",
       " 'Dos amarillas para Xavi Martínez.',\n",
       " 'Sí que... Pude contar con él gracias a que ha cumplido su suspensión.',\n",
       " 'Фалил-то вроде не он а, это Фернандеш, да Фернандеш получает вторую желтую и отправляется отдыхать Маркиниус Фалил а, Фернандеш просто здесь уже разреагировал видимо просто Маркиниус, да, вот такая реакция тоже получил желтую карточку за раз и два но это же красная Фернандеш сколько я понимаю арбитры в этой ситуации сейчас разберемся',\n",
       " 'Bueno, expulsado contra las palmas.',\n",
       " 'Los jugadores del Celta no lo ven igualmente claro.']"
      ]
     },
     "execution_count": 53,
     "metadata": {},
     "output_type": "execute_result"
    }
   ],
   "source": [
    "yr_card_with_additional_info_df = all_game_df[\n",
    "    all_game_df[\"refer_yr-card\"] & (all_game_df[binary_category_name] == 1)\n",
    "]\n",
    "yr_card_with_additional_info_df[\"text\"].head(20).to_list()"
   ]
  },
  {
   "cell_type": "code",
   "execution_count": null,
   "metadata": {},
   "outputs": [],
   "source": []
  }
 ],
 "metadata": {
  "kernelspec": {
   "display_name": ".venv",
   "language": "python",
   "name": "python3"
  },
  "language_info": {
   "codemirror_mode": {
    "name": "ipython",
    "version": 3
   },
   "file_extension": ".py",
   "mimetype": "text/x-python",
   "name": "python",
   "nbconvert_exporter": "python",
   "pygments_lexer": "ipython3",
   "version": "3.11.3"
  }
 },
 "nbformat": 4,
 "nbformat_minor": 2
}
