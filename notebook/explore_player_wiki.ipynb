{
 "cells": [
  {
   "cell_type": "code",
   "execution_count": 2,
   "metadata": {},
   "outputs": [
    {
     "name": "stdout",
     "output_type": "stream",
     "text": [
      "/Users/heste/workspace/soccernet/sn-script\n"
     ]
    },
    {
     "name": "stderr",
     "output_type": "stream",
     "text": [
      "/Users/heste/workspace/soccernet/sn-script/.venv/lib/python3.11/site-packages/IPython/core/magics/osm.py:417: UserWarning: using dhist requires you to install the `pickleshare` library.\n",
      "  self.shell.db['dhist'] = compress_dhist(dhist)[-100:]\n"
     ]
    },
    {
     "data": {
      "text/plain": [
       "'/Users/heste/workspace/soccernet/sn-script'"
      ]
     },
     "execution_count": 2,
     "metadata": {},
     "output_type": "execute_result"
    }
   ],
   "source": [
    "# move to project root\n",
    "%cd ..\n",
    "%pwd"
   ]
  },
  {
   "cell_type": "code",
   "execution_count": 3,
   "metadata": {},
   "outputs": [],
   "source": [
    "import pandas as pd\n",
    "\n",
    "player_wiki_csv_path = \"database/player_wikipedia_articles.csv\"\n",
    "player_csv_path = \"database/sncaption_players.csv\"\n",
    "\n",
    "players_df = pd.read_csv(player_csv_path)\n",
    "player_wiki_df = pd.read_csv(player_wiki_csv_path)\n"
   ]
  },
  {
   "cell_type": "code",
   "execution_count": 4,
   "metadata": {},
   "outputs": [
    {
     "data": {
      "text/plain": [
       "Index(['hash', 'wikipedia_article'], dtype='object')"
      ]
     },
     "execution_count": 4,
     "metadata": {},
     "output_type": "execute_result"
    }
   ],
   "source": [
    "player_wiki_df.columns"
   ]
  },
  {
   "cell_type": "code",
   "execution_count": 13,
   "metadata": {},
   "outputs": [
    {
     "data": {
      "text/html": [
       "<div>\n",
       "<style scoped>\n",
       "    .dataframe tbody tr th:only-of-type {\n",
       "        vertical-align: middle;\n",
       "    }\n",
       "\n",
       "    .dataframe tbody tr th {\n",
       "        vertical-align: top;\n",
       "    }\n",
       "\n",
       "    .dataframe thead th {\n",
       "        text-align: right;\n",
       "    }\n",
       "</style>\n",
       "<table border=\"1\" class=\"dataframe\">\n",
       "  <thead>\n",
       "    <tr style=\"text-align: right;\">\n",
       "      <th></th>\n",
       "      <th>hash</th>\n",
       "      <th>wikipedia_article</th>\n",
       "    </tr>\n",
       "  </thead>\n",
       "  <tbody>\n",
       "    <tr>\n",
       "      <th>0</th>\n",
       "      <td>005SL6KH</td>\n",
       "      <td>https://en.wikipedia.org/wiki/Dalbert_(footbal...</td>\n",
       "    </tr>\n",
       "    <tr>\n",
       "      <th>1</th>\n",
       "      <td>029s4TFi</td>\n",
       "      <td>https://en.wikipedia.org/wiki/Joe_Ledley</td>\n",
       "    </tr>\n",
       "    <tr>\n",
       "      <th>2</th>\n",
       "      <td>02JWqBNj</td>\n",
       "      <td>https://en.wikipedia.org/wiki/Emmanuel_Rivi%C3...</td>\n",
       "    </tr>\n",
       "    <tr>\n",
       "      <th>3</th>\n",
       "      <td>02NrrSBg</td>\n",
       "      <td>https://en.wikipedia.org/wiki/Mike_van_der_Hoorn</td>\n",
       "    </tr>\n",
       "    <tr>\n",
       "      <th>4</th>\n",
       "      <td>02RLPhga</td>\n",
       "      <td>https://en.wikipedia.org/wiki/Jan_Rosenthal</td>\n",
       "    </tr>\n",
       "  </tbody>\n",
       "</table>\n",
       "</div>"
      ],
      "text/plain": [
       "       hash                                  wikipedia_article\n",
       "0  005SL6KH  https://en.wikipedia.org/wiki/Dalbert_(footbal...\n",
       "1  029s4TFi           https://en.wikipedia.org/wiki/Joe_Ledley\n",
       "2  02JWqBNj  https://en.wikipedia.org/wiki/Emmanuel_Rivi%C3...\n",
       "3  02NrrSBg   https://en.wikipedia.org/wiki/Mike_van_der_Hoorn\n",
       "4  02RLPhga        https://en.wikipedia.org/wiki/Jan_Rosenthal"
      ]
     },
     "execution_count": 13,
     "metadata": {},
     "output_type": "execute_result"
    }
   ],
   "source": [
    "player_wiki_df.head()"
   ]
  },
  {
   "cell_type": "code",
   "execution_count": 5,
   "metadata": {},
   "outputs": [
    {
     "name": "stdout",
     "output_type": "stream",
     "text": [
      "all_wikipage_are_unique=False\n"
     ]
    }
   ],
   "source": [
    "all_wikipage_are_unique = (player_wiki_df.groupby(\"wikipedia_article\").nunique() == 1).all().item()\n",
    "print(f\"{all_wikipage_are_unique=}\")"
   ]
  },
  {
   "cell_type": "code",
   "execution_count": 16,
   "metadata": {},
   "outputs": [
    {
     "name": "stdout",
     "output_type": "stream",
     "text": [
      "2\n",
      "                                      wikipedia_article  hash\n",
      "206                 https://en.wikipedia.org/wiki/Allan     2\n",
      "473   https://en.wikipedia.org/wiki/Borja_Fern%C3%A1...     2\n",
      "888   https://en.wikipedia.org/wiki/Ederson_(footbal...     2\n",
      "976   https://en.wikipedia.org/wiki/Evandro_(footbal...     2\n",
      "1034  https://en.wikipedia.org/wiki/Federico_Ricci_(...     2\n",
      "1047  https://en.wikipedia.org/wiki/Fernandinho_(foo...     2\n",
      "2034  https://en.wikipedia.org/wiki/Marco_Russo_(foo...     2\n",
      "2060  https://en.wikipedia.org/wiki/Mario_Fern%C3%A1...     2\n",
      "2100  https://en.wikipedia.org/wiki/Marquinhos_(foot...     2\n",
      "2606  https://en.wikipedia.org/wiki/Rafael_Marques_(...     2\n",
      "2709  https://en.wikipedia.org/wiki/Rodri_(footballe...     2\n"
     ]
    }
   ],
   "source": [
    "non_unique_article_df = player_wiki_df.groupby(\"wikipedia_article\")[\"hash\"].nunique().reset_index()\n",
    "print(non_unique_article_df[\"hash\"].nunique())\n",
    "non_unique_article_df = non_unique_article_df[non_unique_article_df['hash'] > 1]\n",
    "\n",
    "print(non_unique_article_df)"
   ]
  },
  {
   "cell_type": "code",
   "execution_count": null,
   "metadata": {},
   "outputs": [],
   "source": []
  },
  {
   "cell_type": "markdown",
   "metadata": {},
   "source": []
  }
 ],
 "metadata": {
  "kernelspec": {
   "display_name": ".venv",
   "language": "python",
   "name": "python3"
  },
  "language_info": {
   "codemirror_mode": {
    "name": "ipython",
    "version": 3
   },
   "file_extension": ".py",
   "mimetype": "text/x-python",
   "name": "python",
   "nbconvert_exporter": "python",
   "pygments_lexer": "ipython3",
   "version": "3.11.3"
  }
 },
 "nbformat": 4,
 "nbformat_minor": 2
}
