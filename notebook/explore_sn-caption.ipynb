{
 "cells": [
  {
   "cell_type": "code",
   "execution_count": 2,
   "metadata": {},
   "outputs": [
    {
     "name": "stdout",
     "output_type": "stream",
     "text": [
      "/Users/heste/workspace/soccernet/sn-script\n"
     ]
    },
    {
     "name": "stderr",
     "output_type": "stream",
     "text": [
      "/Users/heste/workspace/soccernet/sn-script/.venv/lib/python3.11/site-packages/IPython/core/magics/osm.py:417: UserWarning: using dhist requires you to install the `pickleshare` library.\n",
      "  self.shell.db['dhist'] = compress_dhist(dhist)[-100:]\n"
     ]
    },
    {
     "data": {
      "text/plain": [
       "'/Users/heste/workspace/soccernet/sn-script'"
      ]
     },
     "execution_count": 2,
     "metadata": {},
     "output_type": "execute_result"
    }
   ],
   "source": [
    "# move to project root\n",
    "%cd ..\n",
    "%pwd"
   ]
  },
  {
   "cell_type": "code",
   "execution_count": 3,
   "metadata": {},
   "outputs": [],
   "source": [
    "import pandas as pd\n",
    "\n",
    "caption_path = \"database/soccernet_labels.csv\"\n",
    "\n",
    "caption_df = pd.read_csv(caption_path)\n"
   ]
  },
  {
   "cell_type": "code",
   "execution_count": 4,
   "metadata": {},
   "outputs": [
    {
     "name": "stdout",
     "output_type": "stream",
     "text": [
      "i=1 14845\n",
      "i=2 21585\n",
      "i=3 453\n",
      "i=4 10\n",
      "i=5 1\n"
     ]
    }
   ],
   "source": [
    "for i in range(1, 6):\n",
    "    print(f\"{i=}\", sum(caption_df[\"half\"] == i))"
   ]
  },
  {
   "cell_type": "code",
   "execution_count": 5,
   "metadata": {},
   "outputs": [],
   "source": [
    "caption_df_half1 = caption_df[caption_df[\"half\"] == 1]\n",
    "caption_df_half2 = caption_df[caption_df[\"half\"] == 2]\n",
    "\n",
    "comment_counts = { game: len(ids) for game, ids in caption_df_half2.groupby('game').groups.items()}"
   ]
  },
  {
   "cell_type": "code",
   "execution_count": 6,
   "metadata": {},
   "outputs": [
    {
     "name": "stdout",
     "output_type": "stream",
     "text": [
      "mean_comment_counts=45.82802547770701\n"
     ]
    }
   ],
   "source": [
    "mean_comment_counts = sum(comment_counts.values()) / len(comment_counts)\n",
    "print(f\"{mean_comment_counts=}\")"
   ]
  },
  {
   "cell_type": "code",
   "execution_count": 7,
   "metadata": {},
   "outputs": [
    {
     "name": "stdout",
     "output_type": "stream",
     "text": [
      "average_comment_interval=59\n"
     ]
    }
   ],
   "source": [
    "average_comment_interval = round(45 * 60 / mean_comment_counts)\n",
    "print(f\"{average_comment_interval=}\")"
   ]
  },
  {
   "cell_type": "markdown",
   "metadata": {},
   "source": [
    "half1: average_comment_interval=86\n",
    "half2: average_comment_interval=59"
   ]
  },
  {
   "cell_type": "code",
   "execution_count": 7,
   "metadata": {},
   "outputs": [
    {
     "data": {
      "text/plain": [
       "106.15711252653928"
      ]
     },
     "execution_count": 7,
     "metadata": {},
     "output_type": "execute_result"
    }
   ],
   "source": [
    "# 付加的情報が平均的に各試合いくつあるか\n",
    "50000 / 471"
   ]
  },
  {
   "cell_type": "code",
   "execution_count": 8,
   "metadata": {},
   "outputs": [],
   "source": [
    "from SoccerNet.Downloader import getListGames\n",
    "\n",
    "# どの試合がどのデータセットに含まれるか\n",
    "game_split_map = {game: None for game in caption_df['game'].unique()}\n",
    "for split in [\"train\", \"valid\", \"test\", \"challenge\"]:\n",
    "    games = getListGames(split, \"caption\")\n",
    "    game_split_map.update({game: split for game in games})"
   ]
  },
  {
   "cell_type": "code",
   "execution_count": null,
   "metadata": {},
   "outputs": [],
   "source": [
    "caption_df['split'] = caption_df['game'].map(game_split_map)"
   ]
  },
  {
   "cell_type": "code",
   "execution_count": null,
   "metadata": {},
   "outputs": [],
   "source": [
    "caption_df.to_csv(caption_path, index=False)"
   ]
  },
  {
   "cell_type": "code",
   "execution_count": null,
   "metadata": {},
   "outputs": [],
   "source": [
    "split_group = caption_df.groupby('split')"
   ]
  },
  {
   "cell_type": "code",
   "execution_count": null,
   "metadata": {},
   "outputs": [
    {
     "name": "stdout",
     "output_type": "stream",
     "text": [
      "k='test', 98 games\n",
      "k='train', 281 games\n",
      "k='valid', 92 games\n"
     ]
    }
   ],
   "source": [
    "for k,v in split_group[\"game\"].unique().items():\n",
    "    print(f\"{k=}, {len(v)} games\")"
   ]
  },
  {
   "cell_type": "code",
   "execution_count": null,
   "metadata": {},
   "outputs": [
    {
     "data": {
      "text/plain": [
       "258258"
      ]
     },
     "execution_count": 18,
     "metadata": {},
     "output_type": "execute_result"
    }
   ],
   "source": [
    "caption_df.size"
   ]
  },
  {
   "cell_type": "code",
   "execution_count": null,
   "metadata": {},
   "outputs": [
    {
     "name": "stdout",
     "output_type": "stream",
     "text": [
      "k='train', 281 games\n",
      "k='valid', 92 games\n",
      "k='test', 98 games\n",
      "k='challenge', 42 games\n"
     ]
    }
   ],
   "source": [
    "from SoccerNet.Downloader import getListGames\n",
    "\n",
    "# どの試合がどのデータセットに含まれるか\n",
    "game_split_map = {split: [] for split in [\"train\", \"valid\", \"test\", \"challenge\"]}\n",
    "\n",
    "for split in [\"train\", \"valid\", \"test\", \"challenge\"]:\n",
    "    for game in getListGames(split, task=\"caption\"):\n",
    "        game_split_map[split].append(game)\n",
    "\n",
    "for k,v in game_split_map.items():\n",
    "    print(f\"{k=}, {len(v)} games\")"
   ]
  },
  {
   "cell_type": "code",
   "execution_count": null,
   "metadata": {},
   "outputs": [
    {
     "name": "stderr",
     "output_type": "stream",
     "text": [
      "/var/folders/8y/94zytg1j1h339lyf_x2r_ptr0000gn/T/ipykernel_89652/4145621602.py:7: DtypeWarning: Columns (5,6,10) have mixed types. Specify dtype option on import or set low_memory=False.\n",
      "  commentary_df = pd.read_csv(LLM_ANOTATION_CSV_PATH)\n"
     ]
    }
   ],
   "source": [
    "from sn_script.config import Config, model_type, half_number\n",
    "import pandas as pd\n",
    "\n",
    "\n",
    "LLM_ANOTATION_CSV_PATH = Config.target_base_dir / f\"{model_type}_500game_all_llm_annotation.csv\"\n",
    "\n",
    "commentary_df = pd.read_csv(LLM_ANOTATION_CSV_PATH)\n",
    "games_commentary = commentary_df['game'].unique()\n"
   ]
  },
  {
   "cell_type": "code",
   "execution_count": null,
   "metadata": {},
   "outputs": [
    {
     "data": {
      "text/plain": [
       "Unnamed: 0      object\n",
       "game            object\n",
       "start           object\n",
       "end             object\n",
       "text            object\n",
       "付加的情報か          object\n",
       "大分類             object\n",
       "小分類            float64\n",
       "備考              object\n",
       "text_length    float64\n",
       "start_bin       object\n",
       "half           float64\n",
       "Unnamed: 12    float64\n",
       "Unnamed: 13    float64\n",
       "dtype: object"
      ]
     },
     "execution_count": 19,
     "metadata": {},
     "output_type": "execute_result"
    }
   ],
   "source": [
    "commentary_df.dtypes"
   ]
  },
  {
   "cell_type": "code",
   "execution_count": null,
   "metadata": {},
   "outputs": [
    {
     "data": {
      "text/plain": [
       "{' no consigue controlar el saque de meta para el Valencia cuando estamos ya dentro de ese tiempo de prolongación',\n",
       " ' que queda en la frontal',\n",
       " '0',\n",
       " '1',\n",
       " nan}"
      ]
     },
     "execution_count": 13,
     "metadata": {},
     "output_type": "execute_result"
    }
   ],
   "source": [
    "set(games_commentary) - set(getListGames([\"train\", \"valid\", \"test\"], task=\"caption\"))"
   ]
  },
  {
   "cell_type": "code",
   "execution_count": null,
   "metadata": {},
   "outputs": [
    {
     "data": {
      "text/plain": [
       "{'england_epl/2015-2016/2015-11-29 - 15-00 Tottenham 0 - 0 Chelsea',\n",
       " 'england_epl/2015-2016/2016-01-24 - 19-00 Arsenal 0 - 1 Chelsea',\n",
       " 'germany_bundesliga/2015-2016/2015-12-12 - 17-30 Bayern Munich 2 - 0 Ingolstadt',\n",
       " 'spain_laliga/2015-2016/2015-10-24 - 17-00 Celta Vigo 1 - 3 Real Madrid',\n",
       " 'spain_laliga/2015-2016/2015-12-20 - 18-00 Real Madrid 1 - 0 Rayo Vallecano',\n",
       " 'spain_laliga/2015-2016/2016-01-09 - 22-30 Real Madrid 5 - 0 Dep. La Coruna',\n",
       " 'spain_laliga/2015-2016/2016-01-31 - 22-30 Real Madrid 6 - 0 Espanyol',\n",
       " 'spain_laliga/2015-2016/2016-02-07 - 22-30 Granada CF 1 - 2 Real Madrid',\n",
       " 'spain_laliga/2015-2016/2016-02-13 - 18-00 Real Madrid 4 - 2 Ath Bilbao',\n",
       " 'spain_laliga/2015-2016/2016-02-21 - 18-00 Malaga 1 - 1 Real Madrid'}"
      ]
     },
     "execution_count": 17,
     "metadata": {},
     "output_type": "execute_result"
    }
   ],
   "source": [
    "set(getListGames([\"train\", \"valid\", \"test\"], task=\"caption\")) - set(games_commentary)"
   ]
  }
 ],
 "metadata": {
  "kernelspec": {
   "display_name": ".venv",
   "language": "python",
   "name": "python3"
  },
  "language_info": {
   "codemirror_mode": {
    "name": "ipython",
    "version": 3
   },
   "file_extension": ".py",
   "mimetype": "text/x-python",
   "name": "python",
   "nbconvert_exporter": "python",
   "pygments_lexer": "ipython3",
   "version": "3.11.3"
  }
 },
 "nbformat": 4,
 "nbformat_minor": 2
}
