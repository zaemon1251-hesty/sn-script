{
 "cells": [
  {
   "cell_type": "code",
   "execution_count": 1,
   "metadata": {},
   "outputs": [
    {
     "data": {
      "text/html": [
       "<div>\n",
       "<style scoped>\n",
       "    .dataframe tbody tr th:only-of-type {\n",
       "        vertical-align: middle;\n",
       "    }\n",
       "\n",
       "    .dataframe tbody tr th {\n",
       "        vertical-align: top;\n",
       "    }\n",
       "\n",
       "    .dataframe thead th {\n",
       "        text-align: right;\n",
       "    }\n",
       "</style>\n",
       "<table border=\"1\" class=\"dataframe\">\n",
       "  <thead>\n",
       "    <tr style=\"text-align: right;\">\n",
       "      <th></th>\n",
       "      <th>timestamp</th>\n",
       "      <th>currency</th>\n",
       "      <th>GPT-4 Turbo</th>\n",
       "      <th>GPT-4</th>\n",
       "      <th>GPT-3.5 Turbo</th>\n",
       "      <th>Assistants API</th>\n",
       "      <th>Fine-tuning models</th>\n",
       "      <th>Embedding models</th>\n",
       "      <th>Base models</th>\n",
       "      <th>Image models</th>\n",
       "      <th>Audio models</th>\n",
       "    </tr>\n",
       "  </thead>\n",
       "  <tbody>\n",
       "    <tr>\n",
       "      <th>0</th>\n",
       "      <td>1701388800</td>\n",
       "      <td>usd</td>\n",
       "      <td>0.000</td>\n",
       "      <td>0</td>\n",
       "      <td>0.0000</td>\n",
       "      <td>0</td>\n",
       "      <td>0</td>\n",
       "      <td>0</td>\n",
       "      <td>0</td>\n",
       "      <td>0</td>\n",
       "      <td>0</td>\n",
       "    </tr>\n",
       "    <tr>\n",
       "      <th>1</th>\n",
       "      <td>1701475200</td>\n",
       "      <td>usd</td>\n",
       "      <td>0.000</td>\n",
       "      <td>0</td>\n",
       "      <td>0.0000</td>\n",
       "      <td>0</td>\n",
       "      <td>0</td>\n",
       "      <td>0</td>\n",
       "      <td>0</td>\n",
       "      <td>0</td>\n",
       "      <td>0</td>\n",
       "    </tr>\n",
       "    <tr>\n",
       "      <th>2</th>\n",
       "      <td>1701561600</td>\n",
       "      <td>usd</td>\n",
       "      <td>0.000</td>\n",
       "      <td>0</td>\n",
       "      <td>0.0000</td>\n",
       "      <td>0</td>\n",
       "      <td>0</td>\n",
       "      <td>0</td>\n",
       "      <td>0</td>\n",
       "      <td>0</td>\n",
       "      <td>0</td>\n",
       "    </tr>\n",
       "    <tr>\n",
       "      <th>3</th>\n",
       "      <td>1701648000</td>\n",
       "      <td>usd</td>\n",
       "      <td>114.331</td>\n",
       "      <td>0</td>\n",
       "      <td>11.8495</td>\n",
       "      <td>0</td>\n",
       "      <td>0</td>\n",
       "      <td>0</td>\n",
       "      <td>0</td>\n",
       "      <td>0</td>\n",
       "      <td>0</td>\n",
       "    </tr>\n",
       "    <tr>\n",
       "      <th>4</th>\n",
       "      <td>1701734400</td>\n",
       "      <td>usd</td>\n",
       "      <td>0.000</td>\n",
       "      <td>0</td>\n",
       "      <td>0.0000</td>\n",
       "      <td>0</td>\n",
       "      <td>0</td>\n",
       "      <td>0</td>\n",
       "      <td>0</td>\n",
       "      <td>0</td>\n",
       "      <td>0</td>\n",
       "    </tr>\n",
       "  </tbody>\n",
       "</table>\n",
       "</div>"
      ],
      "text/plain": [
       "    timestamp currency  GPT-4 Turbo  GPT-4  GPT-3.5 Turbo  Assistants API  \\\n",
       "0  1701388800      usd        0.000      0         0.0000               0   \n",
       "1  1701475200      usd        0.000      0         0.0000               0   \n",
       "2  1701561600      usd        0.000      0         0.0000               0   \n",
       "3  1701648000      usd      114.331      0        11.8495               0   \n",
       "4  1701734400      usd        0.000      0         0.0000               0   \n",
       "\n",
       "   Fine-tuning models  Embedding models  Base models  Image models  \\\n",
       "0                   0                 0            0             0   \n",
       "1                   0                 0            0             0   \n",
       "2                   0                 0            0             0   \n",
       "3                   0                 0            0             0   \n",
       "4                   0                 0            0             0   \n",
       "\n",
       "   Audio models  \n",
       "0             0  \n",
       "1             0  \n",
       "2             0  \n",
       "3             0  \n",
       "4             0  "
      ]
     },
     "execution_count": 1,
     "metadata": {},
     "output_type": "execute_result"
    }
   ],
   "source": [
    "import pandas as pd\n",
    "\n",
    "# Load the uploaded CSV file\n",
    "file_path = \"/Users/heste/Downloads/cost-2023-12-01-2024-01-01.csv\"\n",
    "data = pd.read_csv(file_path)\n",
    "\n",
    "# Check the first few rows of the dataframe to understand its structure and identify the timestamp column\n",
    "data.head()"
   ]
  },
  {
   "cell_type": "code",
   "execution_count": 2,
   "metadata": {},
   "outputs": [],
   "source": [
    "data[\"timestamp_jp\"] = (\n",
    "    pd.to_datetime(data[\"timestamp\"], unit=\"s\")\n",
    "    .dt.tz_localize(\"UTC\")\n",
    "    .dt.tz_convert(\"Asia/Tokyo\")\n",
    "    .dt.strftime(\"%Y/%m/%d %H:%M:%S\")\n",
    ")"
   ]
  },
  {
   "cell_type": "code",
   "execution_count": 3,
   "metadata": {},
   "outputs": [],
   "source": [
    "data.to_csv(\"/Users/heste/Downloads/cost-2023-12-01-2024-01-01-jp.csv\", index=False, encoding=\"utf-8-sig\")"
   ]
  },
  {
   "cell_type": "code",
   "execution_count": 3,
   "metadata": {},
   "outputs": [],
   "source": [
    "from sn_script.config import (\n",
    "    Config,\n",
    ")\n",
    "import pandas as pd"
   ]
  },
  {
   "cell_type": "code",
   "execution_count": 4,
   "metadata": {},
   "outputs": [],
   "source": [
    "subcategory_annotation_df = pd.read_csv(\n",
    "    Config.target_base_dir / \"付加的情報の下位分類の集計 - data.csv\"\n",
    ")"
   ]
  },
  {
   "cell_type": "code",
   "execution_count": 6,
   "metadata": {},
   "outputs": [
    {
     "name": "stderr",
     "output_type": "stream",
     "text": [
      "/Users/heste/workspace/sn-caption/sn-script/.venv/lib/python3.11/site-packages/sklearn/metrics/_classification.py:1471: UndefinedMetricWarning: Recall and F-score are ill-defined and being set to 0.0 in labels with no true samples. Use `zero_division` parameter to control this behavior.\n",
      "  _warn_prf(average, modifier, msg_start, len(result))\n",
      "/Users/heste/workspace/sn-caption/sn-script/.venv/lib/python3.11/site-packages/sklearn/metrics/_classification.py:1471: UndefinedMetricWarning: Recall and F-score are ill-defined and being set to 0.0 in labels with no true samples. Use `zero_division` parameter to control this behavior.\n",
      "  _warn_prf(average, modifier, msg_start, len(result))\n",
      "/Users/heste/workspace/sn-caption/sn-script/.venv/lib/python3.11/site-packages/sklearn/metrics/_classification.py:1471: UndefinedMetricWarning: Recall and F-score are ill-defined and being set to 0.0 in labels with no true samples. Use `zero_division` parameter to control this behavior.\n",
      "  _warn_prf(average, modifier, msg_start, len(result))\n"
     ]
    },
    {
     "data": {
      "text/plain": [
       "(0.5581395348837209,\n",
       " 0.4434559884559885,\n",
       " {'precision': 0.5005555555555555,\n",
       "  'recall': 0.4305555555555555,\n",
       "  'f1-score': 0.4434559884559885,\n",
       "  'support': 43.0})"
      ]
     },
     "execution_count": 6,
     "metadata": {},
     "output_type": "execute_result"
    }
   ],
   "source": [
    "from sklearn.metrics import accuracy_score, f1_score, classification_report\n",
    "\n",
    "subcategory_annotation_df[\"gold_str\"] = subcategory_annotation_df[\"gold\"].astype(str)\n",
    "subcategory_annotation_df[\"chatgpt4_str\"] = subcategory_annotation_df[\n",
    "    \"chatgpt4\"\n",
    "].astype(str)\n",
    "\n",
    "# Prepare the data for accuracy and F1 score calculation with the values as strings\n",
    "y_true_str = subcategory_annotation_df[\"gold_str\"]\n",
    "y_pred_str = subcategory_annotation_df[\"chatgpt4_str\"]\n",
    "\n",
    "# Recalculate accuracy\n",
    "accuracy_str = accuracy_score(y_true_str, y_pred_str)\n",
    "\n",
    "# Recalculate macro F1 score\n",
    "macro_f1_str = f1_score(y_true_str, y_pred_str, average=\"macro\")\n",
    "\n",
    "# Recalculate classification report for detailed analysis (precision, recall, f1-score by class)\n",
    "class_report_str = classification_report(y_true_str, y_pred_str, output_dict=True)\n",
    "\n",
    "accuracy_str, macro_f1_str, class_report_str[\"macro avg\"]"
   ]
  },
  {
   "cell_type": "code",
   "execution_count": 10,
   "metadata": {},
   "outputs": [
    {
     "name": "stdout",
     "output_type": "stream",
     "text": [
      "1.1 0.8000000000000002\n",
      "1.2 0.0\n",
      "1.4 0.75\n",
      "1.5 0.5555555555555556\n",
      "1.8 0.28571428571428575\n",
      "2.1 0.28571428571428575\n",
      "2.3 0.7272727272727272\n",
      "2.4 0.3636363636363636\n",
      "2.5 0.0\n",
      "3.3 0.6666666666666666\n",
      "macro avg 0.4434559884559885\n",
      "weighted avg 0.5785764622973926\n"
     ]
    }
   ],
   "source": [
    "for k, v in class_report_str.items():\n",
    "    if isinstance(v, dict):\n",
    "        print(k, v[\"f1-score\"])"
   ]
  },
  {
   "cell_type": "code",
   "execution_count": 9,
   "metadata": {},
   "outputs": [
    {
     "data": {
      "text/plain": [
       "{'1.1': {'precision': 0.8,\n",
       "  'recall': 0.8,\n",
       "  'f1-score': 0.8000000000000002,\n",
       "  'support': 5.0},\n",
       " '1.2': {'precision': 0.0, 'recall': 0.0, 'f1-score': 0.0, 'support': 0.0},\n",
       " '1.4': {'precision': 0.75, 'recall': 0.75, 'f1-score': 0.75, 'support': 8.0},\n",
       " '1.5': {'precision': 0.5555555555555556,\n",
       "  'recall': 0.5555555555555556,\n",
       "  'f1-score': 0.5555555555555556,\n",
       "  'support': 9.0},\n",
       " '1.8': {'precision': 0.5,\n",
       "  'recall': 0.2,\n",
       "  'f1-score': 0.28571428571428575,\n",
       "  'support': 5.0},\n",
       " '2.1': {'precision': 0.2,\n",
       "  'recall': 0.5,\n",
       "  'f1-score': 0.28571428571428575,\n",
       "  'support': 2.0},\n",
       " '2.3': {'precision': 0.8,\n",
       "  'recall': 0.6666666666666666,\n",
       "  'f1-score': 0.7272727272727272,\n",
       "  'support': 6.0},\n",
       " '2.4': {'precision': 0.4,\n",
       "  'recall': 0.3333333333333333,\n",
       "  'f1-score': 0.3636363636363636,\n",
       "  'support': 6.0},\n",
       " '2.5': {'precision': 0.0, 'recall': 0.0, 'f1-score': 0.0, 'support': 0.0},\n",
       " '3.3': {'precision': 1.0,\n",
       "  'recall': 0.5,\n",
       "  'f1-score': 0.6666666666666666,\n",
       "  'support': 2.0},\n",
       " 'accuracy': 0.5581395348837209,\n",
       " 'macro avg': {'precision': 0.5005555555555555,\n",
       "  'recall': 0.4305555555555555,\n",
       "  'f1-score': 0.4434559884559885,\n",
       "  'support': 43.0},\n",
       " 'weighted avg': {'precision': 0.6302325581395349,\n",
       "  'recall': 0.5581395348837209,\n",
       "  'f1-score': 0.5785764622973926,\n",
       "  'support': 43.0}}"
      ]
     },
     "execution_count": 9,
     "metadata": {},
     "output_type": "execute_result"
    }
   ],
   "source": [
    "class_report_str"
   ]
  },
  {
   "cell_type": "code",
   "execution_count": null,
   "metadata": {},
   "outputs": [],
   "source": []
  }
 ],
 "metadata": {
  "kernelspec": {
   "display_name": ".venv",
   "language": "python",
   "name": "python3"
  },
  "language_info": {
   "codemirror_mode": {
    "name": "ipython",
    "version": 3
   },
   "file_extension": ".py",
   "mimetype": "text/x-python",
   "name": "python",
   "nbconvert_exporter": "python",
   "pygments_lexer": "ipython3",
   "version": "3.11.3"
  }
 },
 "nbformat": 4,
 "nbformat_minor": 2
}
